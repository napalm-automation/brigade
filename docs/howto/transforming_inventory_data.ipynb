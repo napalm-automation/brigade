{
 "cells": [
  {
   "cell_type": "markdown",
   "metadata": {},
   "source": [
    "# Transforming Inventory Data\n",
    "\n",
    "Imagine your data looks like:"
   ]
  },
  {
   "cell_type": "code",
   "execution_count": 1,
   "metadata": {},
   "outputs": [
    {
     "name": "stdout",
     "output_type": "stream",
     "text": [
      "---\r\n",
      "rtr00:\r\n",
      "    data:\r\n",
      "        user: automation_user\r\n",
      "rtr01:\r\n",
      "    data:\r\n",
      "        user: automation_user\r\n"
     ]
    }
   ],
   "source": [
    "%cat transforming_inventory_data/inventory/hosts.yaml"
   ]
  },
  {
   "cell_type": "markdown",
   "metadata": {},
   "source": [
    "And we want to do two things:\n",
    "\n",
    "1. Map ``user`` to ``username``\n",
    "2. Prompt the user for the password and add it\n",
    "\n",
    "You can easily do that using a transform_function. For instance:"
   ]
  },
  {
   "cell_type": "markdown",
   "metadata": {},
   "source": [
    "## Modifying hosts' data"
   ]
  },
  {
   "cell_type": "markdown",
   "metadata": {},
   "source": [
    "You can modify inventory data (regardless of the plugin you are using) on the fly easily by password a ``transform_function`` like this:"
   ]
  },
  {
   "cell_type": "code",
   "execution_count": 2,
   "metadata": {},
   "outputs": [
    {
     "name": "stdout",
     "output_type": "stream",
     "text": [
      "rtr00.username: automation_user\n",
      "rtr01.username: automation_user\n"
     ]
    }
   ],
   "source": [
    "from nornir import InitNornir\n",
    "import pprint\n",
    "\n",
    "def adapt_host_data(host):\n",
    "    # This function receives a Host object for manipulation\n",
    "    host.username = host[\"user\"]\n",
    "\n",
    "nr = InitNornir(\n",
    "    inventory={\n",
    "            \"plugin\": \"nornir.plugins.inventory.simple.SimpleInventory\",\n",
    "            \"options\": {\n",
    "                \"host_file\": \"transforming_inventory_data/inventory/hosts.yaml\",\n",
    "                \"group_file\": \"transforming_inventory_data/inventory/groups.yaml\",\n",
    "            },\n",
    "            \"transform_function\": adapt_host_data,\n",
    "    },\n",
    ")\n",
    "for name, host in nr.inventory.hosts.items():\n",
    "    print(f\"{name}.username: {host.username}\")"
   ]
  },
  {
   "cell_type": "markdown",
   "metadata": {},
   "source": [
    "### Specifying the transform function in the configuration\n",
    "\n",
    "You can also specify the transform function in the configuration. In order for that to work the function must be importable. For instance:"
   ]
  },
  {
   "cell_type": "code",
   "execution_count": 3,
   "metadata": {},
   "outputs": [
    {
     "name": "stdout",
     "output_type": "stream",
     "text": [
      "def adapt_host_data(host):\r\n",
      "    # This function receives a Host object for manipulation\r\n",
      "    host.username = host[\"user\"]\r\n"
     ]
    }
   ],
   "source": [
    "%cat transforming_inventory_data/helpers.py"
   ]
  },
  {
   "cell_type": "markdown",
   "metadata": {},
   "source": [
    "Now let's verify we can, indeed, import the function:"
   ]
  },
  {
   "cell_type": "code",
   "execution_count": 4,
   "metadata": {},
   "outputs": [
    {
     "data": {
      "text/plain": [
       "<function transforming_inventory_data.helpers.adapt_host_data(host)>"
      ]
     },
     "execution_count": 4,
     "metadata": {},
     "output_type": "execute_result"
    }
   ],
   "source": [
    "from transforming_inventory_data.helpers import adapt_host_data\n",
    "adapt_host_data"
   ]
  },
  {
   "cell_type": "markdown",
   "metadata": {},
   "source": [
    "Now everything we have to do is put the import path as the ``transform_function`` configuration option:"
   ]
  },
  {
   "cell_type": "code",
   "execution_count": 5,
   "metadata": {},
   "outputs": [
    {
     "name": "stdout",
     "output_type": "stream",
     "text": [
      "---\r\n",
      "inventory:\r\n",
      "    plugin: nornir.plugins.inventory.simple.SimpleInventory\r\n",
      "    options:\r\n",
      "        host_file: \"transforming_inventory_data/inventory/hosts.yaml\"\r\n",
      "        group_file: \"transforming_inventory_data/inventory/groups.yaml\"\r\n",
      "    transform_function: \"transforming_inventory_data.helpers.adapt_host_data\"\r\n"
     ]
    }
   ],
   "source": [
    "%cat transforming_inventory_data/config.yaml"
   ]
  },
  {
   "cell_type": "markdown",
   "metadata": {},
   "source": [
    "And then we won't need to specify it when calling ``InitNornir``:"
   ]
  },
  {
   "cell_type": "code",
   "execution_count": 6,
   "metadata": {},
   "outputs": [
    {
     "name": "stdout",
     "output_type": "stream",
     "text": [
      "rtr00.username: automation_user\n",
      "rtr01.username: automation_user\n"
     ]
    }
   ],
   "source": [
    "from nornir import InitNornir\n",
    "import pprint\n",
    "\n",
    "nr = InitNornir(\n",
    "    config_file=\"transforming_inventory_data/config.yaml\",\n",
    ")\n",
    "for name, host in nr.inventory.hosts.items():\n",
    "    print(f\"{name}.username: {host.username}\")"
   ]
  },
  {
   "cell_type": "markdown",
   "metadata": {},
   "source": [
    "## Setting a default password\n",
    "\n",
    "You might be in a situation where you may want to prompt the user for some information, for instance, a password. You can leverage the ``defaults`` for something like this (although you could just put in under the hosts themselves or the groups). Let's see an example:"
   ]
  },
  {
   "cell_type": "code",
   "execution_count": 7,
   "metadata": {},
   "outputs": [
    {
     "name": "stdout",
     "output_type": "stream",
     "text": [
      "Before setting password:  None\n",
      "After setting password:  a_secret_password\n",
      "After setting password:  a_secret_password\n"
     ]
    }
   ],
   "source": [
    "from nornir import InitNornir\n",
    "\n",
    "# let's pretend we used raw_input or something like that\n",
    "# password = raw_input(\"Please, enter password: \")\n",
    "password = \"a_secret_password\"\n",
    "\n",
    "nr = InitNornir(\n",
    "    config_file=\"transforming_inventory_data/config.yaml\",\n",
    ")\n",
    "print(\"Before setting password: \", nr.inventory.hosts[\"rtr00\"].password)\n",
    "nr.inventory.defaults.password = password\n",
    "print(\"After setting password: \", nr.inventory.hosts[\"rtr00\"].password)\n",
    "print(\"After setting password: \", nr.inventory.defaults.password)"
   ]
  },
  {
   "cell_type": "markdown",
   "metadata": {},
   "source": [
    "For more information on how inheritance works check the tutorial section [inheritance model](../tutorials/intro/inventory.rst)"
   ]
  }
 ],
 "metadata": {
  "kernelspec": {
   "display_name": "Python 3",
   "language": "python",
   "name": "python3"
  },
  "language_info": {
   "codemirror_mode": {
    "name": "ipython",
    "version": 3
   },
   "file_extension": ".py",
   "mimetype": "text/x-python",
   "name": "python",
   "nbconvert_exporter": "python",
   "pygments_lexer": "ipython3",
   "version": "3.6.5"
  }
 },
 "nbformat": 4,
 "nbformat_minor": 2
}
