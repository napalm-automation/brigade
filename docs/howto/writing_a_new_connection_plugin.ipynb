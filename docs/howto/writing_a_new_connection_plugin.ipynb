{
 "cells": [
  {
   "cell_type": "markdown",
   "metadata": {},
   "source": [
    "# Writing a new connection plugin\n",
    "\n",
    "The connection class must inherit the abstract ``ConnectionPlugin`` class from ``nornir.core.connections`` and need to have the implementations of the methods ``open`` and ``close``. Assign the underlaying connetion to ``self.connection``.\n",
    "\n",
    "For consistency the plugin name should be stored in the variable ``CONNECTION_NAME ``."
   ]
  },
  {
   "cell_type": "code",
   "execution_count": 1,
   "metadata": {},
   "outputs": [
    {
     "name": "stdout",
     "output_type": "stream",
     "text": [
      "from typing import Any, Dict, Optional\r\n",
      "\r\n",
      "from nornir.core.configuration import Config\r\n",
      "from nornir.core.connections import ConnectionPlugin\r\n",
      "\r\n",
      "\r\n",
      "CONNECTION_NAME = \"nornir_demo.demo\"\r\n",
      "\r\n",
      "\r\n",
      "class Demo(ConnectionPlugin):\r\n",
      "    \"\"\"\r\n",
      "    This plugin is a demo plugin to show how to set up a new project\r\n",
      "    \"\"\"\r\n",
      "\r\n",
      "    def open(\r\n",
      "        self,\r\n",
      "        hostname: Optional[str],\r\n",
      "        username: Optional[str],\r\n",
      "        password: Optional[str],\r\n",
      "        port: Optional[int],\r\n",
      "        platform: Optional[str],\r\n",
      "        extras: Optional[Dict[str, Any]] = None,\r\n",
      "        configuration: Optional[Config] = None,\r\n",
      "    ) -> None:\r\n",
      "        \"\"\"\r\n",
      "        Connect to the device and populate the attribute :attr:`connection` with\r\n",
      "        the underlying connection\r\n",
      "        \"\"\"\r\n",
      "        pass\r\n",
      "\r\n",
      "    def close(self) -> None:\r\n",
      "        \"\"\"Close the connection with the device\"\"\"\r\n",
      "        pass\r\n"
     ]
    }
   ],
   "source": [
    "%cat writing_a_new_connection_plugin/__init__.py"
   ]
  },
  {
   "cell_type": "markdown",
   "metadata": {},
   "source": [
    "The connection plugin can be registerd manually"
   ]
  },
  {
   "cell_type": "code",
   "execution_count": 2,
   "metadata": {},
   "outputs": [],
   "source": [
    "from nornir.core.connections import Connections\n",
    "from writing_a_new_connection_plugin import Demo, CONNECTION_NAME\n",
    "\n",
    "Connections.register(CONNECTION_NAME, Demo)"
   ]
  },
  {
   "cell_type": "markdown",
   "metadata": {},
   "source": [
    "Verify if the registration worked"
   ]
  },
  {
   "cell_type": "code",
   "execution_count": 3,
   "metadata": {},
   "outputs": [
    {
     "name": "stdout",
     "output_type": "stream",
     "text": [
      "<class 'writing_a_new_connection_plugin.Demo'>\n"
     ]
    }
   ],
   "source": [
    "connection = Connections.get_plugin(CONNECTION_NAME)\n",
    "print(connection)"
   ]
  },
  {
   "cell_type": "markdown",
   "metadata": {},
   "source": [
    "## Plugin auto registration\n",
    "\n",
    "When connection plugins are installed as separate packages they should register them self as an entry point for the discovery. ``InitNornir()`` discovers and register all plugins under the entry point group ``nornir.plugins.connections`` automatically."
   ]
  },
  {
   "cell_type": "markdown",
   "metadata": {},
   "source": [
    "### Setuptools\n",
    "\n",
    "If you use the setuptools you can use the ``entry_points`` argument in ``setup()`` to register the plugin for discovery. Add the following in your ``setup.py``.\n",
    "\n",
    "```python\n",
    "setup(\n",
    "    ...\n",
    "    entry_points={'nornir.plugins.connections': 'nornir_demo.demo = nornir_demo.connections:Demo'},\n",
    "    ...\n",
    ")\n",
    "```"
   ]
  },
  {
   "cell_type": "markdown",
   "metadata": {},
   "source": [
    "### Poetry\n",
    "\n",
    "If you use poetry like the nornir project you have to add the following in the ``pyproject.toml`` file to register the plugin.\n",
    "\n",
    "```python\n",
    "[tool.poetry.plugins.\"nornir.plugins.connections\"]\n",
    "\"nornir_demo.demo\" = \"nornir_demo.connections:Demo\"\n",
    "```"
   ]
  },
  {
   "cell_type": "markdown",
   "metadata": {},
   "source": [
    "## Poetry demo setup\n",
    "\n",
    "How to create a new project with poetry"
   ]
  },
  {
   "cell_type": "markdown",
   "metadata": {},
   "source": [
    "Create a new project\n",
    "\n",
    "```bash\n",
    "$ poetry new nornir_demo\n",
    "\n",
    "Created package nornir_demo in nornir_demo\n",
    "```"
   ]
  },
  {
   "cell_type": "markdown",
   "metadata": {},
   "source": [
    "```bash\n",
    "$ tree -a -n nornir_demo\n",
    "\n",
    "nornir_demo\n",
    "├── README.rst\n",
    "├── nornir_demo\n",
    "│   └── __init__.py\n",
    "├── pyproject.toml\n",
    "└── tests\n",
    "    ├── __init__.py\n",
    "    └── test_nornir_demo.py\n",
    "\n",
    "2 directories, 5 files\n",
    "```"
   ]
  },
  {
   "cell_type": "markdown",
   "metadata": {},
   "source": [
    "Create the folder ``connections`` and add a ``__init__.py``\n",
    "\n",
    "```bash\n",
    "$ cd nornir_demo\n",
    "$ mkdir nornir_demo/connections\n",
    "$ touch nornir_demo/connections/__init__.py\n",
    "$ tree -a -n\n",
    ".\n",
    "├── README.rst\n",
    "├── nornir_demo\n",
    "│   ├── __init__.py\n",
    "│   └── connections\n",
    "│       └── __init__.py\n",
    "├── pyproject.toml\n",
    "└── tests\n",
    "    ├── __init__.py\n",
    "    └── test_nornir_demo.py\n",
    "\n",
    "3 directories, 6 files\n",
    "```"
   ]
  },
  {
   "cell_type": "markdown",
   "metadata": {},
   "source": [
    "### Connection plugin implementation"
   ]
  },
  {
   "cell_type": "markdown",
   "metadata": {},
   "source": [
    "You can place your code in the ``__init__.py`` under the created folder ``connections``."
   ]
  },
  {
   "cell_type": "code",
   "execution_count": 4,
   "metadata": {},
   "outputs": [
    {
     "name": "stdout",
     "output_type": "stream",
     "text": [
      "from typing import Any, Dict, Optional\r\n",
      "\r\n",
      "from nornir.core.configuration import Config\r\n",
      "from nornir.core.connections import ConnectionPlugin\r\n",
      "\r\n",
      "\r\n",
      "CONNECTION_NAME = \"nornir_demo.demo\"\r\n",
      "\r\n",
      "\r\n",
      "class Demo(ConnectionPlugin):\r\n",
      "    \"\"\"\r\n",
      "    This plugin is a demo plugin to show how to set up a new project\r\n",
      "    \"\"\"\r\n",
      "\r\n",
      "    def open(\r\n",
      "        self,\r\n",
      "        hostname: Optional[str],\r\n",
      "        username: Optional[str],\r\n",
      "        password: Optional[str],\r\n",
      "        port: Optional[int],\r\n",
      "        platform: Optional[str],\r\n",
      "        extras: Optional[Dict[str, Any]] = None,\r\n",
      "        configuration: Optional[Config] = None,\r\n",
      "    ) -> None:\r\n",
      "        \"\"\"\r\n",
      "        Connect to the device and populate the attribute :attr:`connection` with\r\n",
      "        the underlying connection\r\n",
      "        \"\"\"\r\n",
      "        pass\r\n",
      "\r\n",
      "    def close(self) -> None:\r\n",
      "        \"\"\"Close the connection with the device\"\"\"\r\n",
      "        pass\r\n"
     ]
    }
   ],
   "source": [
    "%cat writing_a_new_connection_plugin/__init__.py"
   ]
  },
  {
   "cell_type": "markdown",
   "metadata": {},
   "source": [
    "Don't forget to register the plugin in the ``pyproject.toml``"
   ]
  },
  {
   "cell_type": "code",
   "execution_count": 5,
   "metadata": {},
   "outputs": [
    {
     "name": "stdout",
     "output_type": "stream",
     "text": [
      "[tool.poetry]\r\n",
      "name = \"nornir_demo\"\r\n",
      "version = \"0.1.0\"\r\n",
      "description = \"Nornir demo connection plugin\"\r\n",
      "authors = [\"Jane Doe <jane@doe.loc>\"]\r\n",
      "license = \"Apache-2.0\"\r\n",
      "\r\n",
      "[tool.poetry.plugins.\"nornir.plugins.connections\"]\r\n",
      "\"nornir_demo.demo\" = \"nornir_demo.connections:Demo\"\r\n",
      "\r\n",
      "[tool.poetry.dependencies]\r\n",
      "python = \"^3.6\"\r\n",
      "\r\n",
      "[tool.poetry.dev-dependencies]\r\n",
      "pytest = \"^5.2\"\r\n",
      "\r\n",
      "[build-system]\r\n",
      "requires = [\"poetry>=0.12\"]\r\n",
      "build-backend = \"poetry.masonry.api\"\r\n"
     ]
    }
   ],
   "source": [
    "%cat writing_a_new_connection_plugin/pyproject.toml"
   ]
  },
  {
   "cell_type": "markdown",
   "metadata": {},
   "source": [
    "Nornir should be added as a dependency\n",
    "\n",
    "```bash\n",
    "$ poetry add nornir^3.0.0\n",
    "```"
   ]
  },
  {
   "cell_type": "markdown",
   "metadata": {},
   "source": [
    "### Test entry point registration"
   ]
  },
  {
   "cell_type": "markdown",
   "metadata": {},
   "source": [
    "To test we need to install the new package. (If you use the setuptool you also need to install it with ``setup.py install`` or ``setup.py develop``)"
   ]
  },
  {
   "cell_type": "markdown",
   "metadata": {},
   "source": [
    "```bash\n",
    "$ poetry install -q\n",
    "$ poetry shell -q\n",
    "$ python\n",
    "Python 3.6.9 (default, Nov  7 2019, 10:44:02)\n",
    "[GCC 8.3.0] on linux\n",
    "Type \"help\", \"copyright\", \"credits\" or \"license\" for more information.\n",
    ">>> import pkg_resources\n",
    ">>> entry_point = pkg_resources.iter_entry_points('nornir.plugins.connections')\n",
    ">>>\n",
    ">>> for ep in entry_point:\n",
    "...     if 'nornir_demo.demo' in str(ep):\n",
    "...         print('Install successful')\n",
    "...\n",
    "Install successful\n",
    ">>> exit()\n",
    "```"
   ]
  },
  {
   "cell_type": "markdown",
   "metadata": {},
   "source": [
    "### Documentation\n",
    "\n",
    "Nornir plugins should be well documented. After the plugin is released and published add it to the list of available plugins ([nornir.tech](https://nornir.tech/nornir/plugins/)). The list is populated from the GitHub repo [\n",
    "nornir.tech.src](https://github.com/nornir-automation/nornir.tech.src/blob/master/data/nornir/plugins.yaml). Please create a pull request."
   ]
  },
  {
   "cell_type": "markdown",
   "metadata": {},
   "source": [
    "```yaml\n",
    "---\n",
    "connections:\n",
    "    - url: https://github.com/nornir-automation/nornir_demo\n",
    "      name: demo\n",
    "      maintainer: \"[Jane Doe](https://github.com/janedoe)\"\n",
    "      description: |\n",
    "          Project to demonstrate how to create a connection plugin\n",
    "```"
   ]
  }
 ],
 "metadata": {
  "kernelspec": {
   "display_name": "Python 3",
   "language": "python",
   "name": "python3"
  },
  "language_info": {
   "codemirror_mode": {
    "name": "ipython",
    "version": 3
   },
   "file_extension": ".py",
   "mimetype": "text/x-python",
   "name": "python",
   "nbconvert_exporter": "python",
   "pygments_lexer": "ipython3",
   "version": "3.6.9"
  }
 },
 "nbformat": 4,
 "nbformat_minor": 2
}
