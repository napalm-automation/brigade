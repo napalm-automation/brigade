{
 "cells": [
  {
   "cell_type": "markdown",
   "metadata": {},
   "source": [
    "# Writing a new connection plugin\n",
    "\n",
    "Connection plugins are installed as separate packages. Those package must register them self as an entry point for the discovery. ``InitNornir()`` discovers and register all plugins under the entry point group ``nornir.plugins.connections`` automatically."
   ]
  },
  {
   "cell_type": "markdown",
   "metadata": {},
   "source": [
    "## Setuptools\n",
    "\n",
    "If you use the setuptools you can use the ``entry_points`` argument in ``setup()`` to register the plugin for discovery. Add the following in your ``setup.py``.\n",
    "\n",
    "```python\n",
    "setup(\n",
    "    ...\n",
    "    entry_points={'nornir.plugins.connections': 'nornir_demo.demo = nornir_demo.connections:Demo'},\n",
    "    ...\n",
    ")\n",
    "```"
   ]
  },
  {
   "cell_type": "markdown",
   "metadata": {},
   "source": [
    "## Poetry\n",
    "\n",
    "If you use poetry like the nornir project you have to add the following in the ``pyproject.toml`` file to register the plugin.\n",
    "\n",
    "```python\n",
    "[tool.poetry.plugins.\"nornir.plugins.connections\"]\n",
    "\"nornir_demo.demo\" = \"nornir_demo.connections:Demo\"\n",
    "```"
   ]
  },
  {
   "cell_type": "markdown",
   "metadata": {},
   "source": [
    "## Poetry demo setup"
   ]
  },
  {
   "cell_type": "code",
   "execution_count": 1,
   "metadata": {},
   "outputs": [
    {
     "name": "stdout",
     "output_type": "stream",
     "text": [
      "Created package \u001b[34mnornir_demo\u001b[0m in \u001b[34mnornir_demo\u001b[0m\r\n"
     ]
    }
   ],
   "source": [
    "!poetry new nornir_demo"
   ]
  },
  {
   "cell_type": "code",
   "execution_count": 2,
   "metadata": {},
   "outputs": [
    {
     "name": "stdout",
     "output_type": "stream",
     "text": [
      "nornir_demo\r\n",
      "├── README.rst\r\n",
      "├── nornir_demo\r\n",
      "│   └── __init__.py\r\n",
      "├── pyproject.toml\r\n",
      "└── tests\r\n",
      "    ├── __init__.py\r\n",
      "    └── test_nornir_demo.py\r\n",
      "\r\n",
      "2 directories, 5 files\r\n"
     ]
    }
   ],
   "source": [
    "!tree -a -n nornir_demo"
   ]
  },
  {
   "cell_type": "code",
   "execution_count": 3,
   "metadata": {},
   "outputs": [],
   "source": [
    "!cd nornir_demo && mkdir nornir_demo/connections"
   ]
  },
  {
   "cell_type": "code",
   "execution_count": 4,
   "metadata": {},
   "outputs": [],
   "source": [
    "!cd nornir_demo && touch nornir_demo/connections/__init__.py"
   ]
  },
  {
   "cell_type": "code",
   "execution_count": 5,
   "metadata": {},
   "outputs": [
    {
     "name": "stdout",
     "output_type": "stream",
     "text": [
      "nornir_demo\r\n",
      "├── README.rst\r\n",
      "├── nornir_demo\r\n",
      "│   ├── __init__.py\r\n",
      "│   └── connections\r\n",
      "│       └── __init__.py\r\n",
      "├── pyproject.toml\r\n",
      "└── tests\r\n",
      "    ├── __init__.py\r\n",
      "    └── test_nornir_demo.py\r\n",
      "\r\n",
      "3 directories, 6 files\r\n"
     ]
    }
   ],
   "source": [
    "!tree -a -n nornir_demo"
   ]
  },
  {
   "cell_type": "markdown",
   "metadata": {},
   "source": [
    "## Connection plugin implementation"
   ]
  },
  {
   "cell_type": "markdown",
   "metadata": {},
   "source": [
    "The connection class must inherit the abstract ``ConnectionPlugin`` class from ``nornir.core.connections`` and need to have a implementation of the methods ``open`` and ``close``. Assign the underlaying connetion to ``self.connection``."
   ]
  },
  {
   "cell_type": "code",
   "execution_count": 6,
   "metadata": {},
   "outputs": [
    {
     "name": "stdout",
     "output_type": "stream",
     "text": [
      "from typing import Any, Dict, Optional\r\n",
      "\r\n",
      "from nornir.core.configuration import Config\r\n",
      "from nornir.core.connections import ConnectionPlugin\r\n",
      "\r\n",
      "\r\n",
      "CONNECTION_NAME = \"nornir_demo.demo\"\r\n",
      "\r\n",
      "\r\n",
      "class Demo(ConnectionPlugin):\r\n",
      "    \"\"\"\r\n",
      "    This plugin is a demo plugin to show how to set up a new project\r\n",
      "    \"\"\"\r\n",
      "\r\n",
      "    def open(\r\n",
      "        self,\r\n",
      "        hostname: Optional[str],\r\n",
      "        username: Optional[str],\r\n",
      "        password: Optional[str],\r\n",
      "        port: Optional[int],\r\n",
      "        platform: Optional[str],\r\n",
      "        extras: Optional[Dict[str, Any]] = None,\r\n",
      "        configuration: Optional[Config] = None,\r\n",
      "    ) -> None:\r\n",
      "        \"\"\"\r\n",
      "        Connect to the device and populate the attribute :attr:`connection` with\r\n",
      "        the underlying connection\r\n",
      "        \"\"\"\r\n",
      "        pass\r\n",
      "\r\n",
      "\r\n",
      "    def close(self) -> None:\r\n",
      "        \"\"\"Close the connection with the device\"\"\"\r\n",
      "        pass\r\n"
     ]
    }
   ],
   "source": [
    "%cat writing_a_new_connection_plugin/__init__.py"
   ]
  },
  {
   "cell_type": "markdown",
   "metadata": {},
   "source": [
    "Don't forget to register the plugin in the ``pyproject.toml``"
   ]
  },
  {
   "cell_type": "code",
   "execution_count": 7,
   "metadata": {},
   "outputs": [
    {
     "name": "stdout",
     "output_type": "stream",
     "text": [
      "[tool.poetry]\r\n",
      "name = \"nornir_demo\"\r\n",
      "version = \"0.1.0\"\r\n",
      "description = \"Nornir demo connection plugin\"\r\n",
      "authors = [\"Jane Doe <jane@doe.loc>\"]\r\n",
      "license = \"Apache-2.0\"\r\n",
      "\r\n",
      "[tool.poetry.plugins.\"nornir.plugins.connections\"]\r\n",
      "\"nornir_demo.demo\" = \"nornir_demo.connections:Demo\"\r\n",
      "\r\n",
      "[tool.poetry.dependencies]\r\n",
      "python = \"^3.6\"\r\n",
      "\r\n",
      "[tool.poetry.dev-dependencies]\r\n",
      "pytest = \"^5.2\"\r\n",
      "\r\n",
      "[build-system]\r\n",
      "requires = [\"poetry>=0.12\"]\r\n",
      "build-backend = \"poetry.masonry.api\"\r\n"
     ]
    }
   ],
   "source": [
    "%cat writing_a_new_connection_plugin/pyproject.toml"
   ]
  },
  {
   "cell_type": "markdown",
   "metadata": {},
   "source": [
    "Nornir should be added as a dependency"
   ]
  },
  {
   "cell_type": "code",
   "execution_count": 8,
   "metadata": {},
   "outputs": [],
   "source": [
    "!cd nornir_demo && poetry add nornir^3.0.0 -q"
   ]
  },
  {
   "cell_type": "markdown",
   "metadata": {},
   "source": [
    "## Test entry point registration"
   ]
  },
  {
   "cell_type": "markdown",
   "metadata": {},
   "source": [
    "To test we need to install the new package. (If you use the setuptool you also need to install it with ``setup.py install`` or ``setup.py develop``)"
   ]
  },
  {
   "cell_type": "code",
   "execution_count": 9,
   "metadata": {},
   "outputs": [],
   "source": [
    "!cd nornir_demo && poetry install -q"
   ]
  },
  {
   "cell_type": "code",
   "execution_count": 10,
   "metadata": {},
   "outputs": [],
   "source": [
    "!cd nornir_demo && poetry shell -q"
   ]
  },
  {
   "cell_type": "code",
   "execution_count": 11,
   "metadata": {},
   "outputs": [
    {
     "name": "stdout",
     "output_type": "stream",
     "text": [
      "Install successful\n"
     ]
    }
   ],
   "source": [
    "import pkg_resources\n",
    "\n",
    "entry_point = pkg_resources.iter_entry_points('nornir.plugins.connections')\n",
    "\n",
    "for ep in entry_point:\n",
    "    if 'nornir_demo.demo' in str(ep):\n",
    "        print('Install successful')"
   ]
  },
  {
   "cell_type": "markdown",
   "metadata": {},
   "source": [
    "## Documentation\n",
    "\n",
    "Nornir plugins should be well documented. After the plugin is released and published add it to the list of available plugins ([nornir.tech](https://nornir.tech/nornir/plugins/)). The list is populated from the GitHub repo [\n",
    "nornir.tech.src](https://github.com/nornir-automation/nornir.tech.src/blob/master/data/nornir/plugins.yaml). Please create a pull request."
   ]
  },
  {
   "cell_type": "markdown",
   "metadata": {},
   "source": [
    "```yaml\n",
    "---\n",
    "connections:\n",
    "    - url: https://github.com/nornir-automation/nornir_demo\n",
    "      name: demo\n",
    "      maintainer: \"[Jane Doe](https://github.com/janedoe)\"\n",
    "      description: |\n",
    "          Project to demonstrate how to create a connection plugin\n",
    "```"
   ]
  }
 ],
 "metadata": {
  "kernelspec": {
   "display_name": "Python 3",
   "language": "python",
   "name": "python3"
  },
  "language_info": {
   "codemirror_mode": {
    "name": "ipython",
    "version": 3
   },
   "file_extension": ".py",
   "mimetype": "text/x-python",
   "name": "python",
   "nbconvert_exporter": "python",
   "pygments_lexer": "ipython3",
   "version": "3.6.9"
  }
 },
 "nbformat": 4,
 "nbformat_minor": 2
}
