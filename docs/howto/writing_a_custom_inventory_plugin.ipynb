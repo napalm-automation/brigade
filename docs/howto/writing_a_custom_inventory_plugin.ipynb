{
 "cells": [
  {
   "cell_type": "markdown",
   "metadata": {},
   "source": [
    "# Writing a custom inventory plugin\n",
    "\n",
    "If you have your own backend with host information or you don't like the provided ones you can write your own custom inventory. Doing so is quite easy. A continuation you can find a very simple one with static data."
   ]
  },
  {
   "cell_type": "code",
   "execution_count": 1,
   "metadata": {},
   "outputs": [
    {
     "name": "stdout",
     "output_type": "stream",
     "text": [
      "from nornir.core.deserializer.inventory import Inventory\r\n",
      "\r\n",
      "\r\n",
      "class MyInventory(Inventory):\r\n",
      "    def __init__(self, **kwargs):\r\n",
      "        # code to get the data\r\n",
      "        hosts = {\r\n",
      "            \"host1\": {\r\n",
      "                \"data\": {\"data1\": \"value1\", \"data2\": \"value2\", \"data3\": \"value3\"},\r\n",
      "                \"groups\": [\"my_group1\"],\r\n",
      "            },\r\n",
      "            \"host2\": {\r\n",
      "                \"data\": {\"data1\": \"value1\", \"data2\": \"value2\", \"data3\": \"value3\"},\r\n",
      "                \"groups\": [\"my_group1\"],\r\n",
      "            },\r\n",
      "        }\r\n",
      "        groups = {\r\n",
      "            \"my_group1\": {\r\n",
      "                \"data\": {\r\n",
      "                    \"more_data1\": \"more_value1\",\r\n",
      "                    \"more_data2\": \"more_value2\",\r\n",
      "                    \"more_data3\": \"more_value3\",\r\n",
      "                }\r\n",
      "            }\r\n",
      "        }\r\n",
      "        defaults = {\"data\": {\"location\": \"internet\", \"language\": \"Python\"}}\r\n",
      "\r\n",
      "        # passing the data to the parent class so the data is\r\n",
      "        # transformed into actual Host/Group objects\r\n",
      "        # and set default data for all hosts\r\n",
      "        super().__init__(hosts=hosts, groups=groups, defaults=defaults, **kwargs)\r\n"
     ]
    }
   ],
   "source": [
    "%cat writing_a_custom_inventory_plugin/my_inventory.py"
   ]
  },
  {
   "cell_type": "markdown",
   "metadata": {},
   "source": [
    "A dynamic inventory basically would have to retrieve the data, rearrange in a similar way as in the example above and cal ``super``. Now, let's see how to use it:"
   ]
  },
  {
   "cell_type": "code",
   "execution_count": 2,
   "metadata": {},
   "outputs": [
    {
     "name": "stdout",
     "output_type": "stream",
     "text": [
      "{'defaults': {'connection_options': {},\n",
      "              'data': {'language': 'Python', 'location': 'internet'},\n",
      "              'hostname': None,\n",
      "              'password': None,\n",
      "              'platform': None,\n",
      "              'port': None,\n",
      "              'username': None},\n",
      " 'groups': {'my_group1': {'connection_options': {},\n",
      "                          'data': {'more_data1': 'more_value1',\n",
      "                                   'more_data2': 'more_value2',\n",
      "                                   'more_data3': 'more_value3'},\n",
      "                          'groups': [],\n",
      "                          'hostname': None,\n",
      "                          'password': None,\n",
      "                          'platform': None,\n",
      "                          'port': None,\n",
      "                          'username': None}},\n",
      " 'hosts': {'host1': {'connection_options': {},\n",
      "                     'data': {'data1': 'value1',\n",
      "                              'data2': 'value2',\n",
      "                              'data3': 'value3'},\n",
      "                     'groups': ['my_group1'],\n",
      "                     'hostname': None,\n",
      "                     'password': None,\n",
      "                     'platform': None,\n",
      "                     'port': None,\n",
      "                     'username': None},\n",
      "           'host2': {'connection_options': {},\n",
      "                     'data': {'data1': 'value1',\n",
      "                              'data2': 'value2',\n",
      "                              'data3': 'value3'},\n",
      "                     'groups': ['my_group1'],\n",
      "                     'hostname': None,\n",
      "                     'password': None,\n",
      "                     'platform': None,\n",
      "                     'port': None,\n",
      "                     'username': None}}}\n"
     ]
    }
   ],
   "source": [
    "from nornir import InitNornir\n",
    "from nornir.core.deserializer.inventory import Inventory\n",
    "import pprint\n",
    "\n",
    "nr = InitNornir(\n",
    "    inventory={\n",
    "        \"plugin\": \"writing_a_custom_inventory_plugin.my_inventory.MyInventory\"\n",
    "    }\n",
    ")\n",
    "pprint.pprint(Inventory.serialize(nr.inventory).dict())"
   ]
  }
 ],
 "metadata": {
  "kernelspec": {
   "display_name": "Python 3",
   "language": "python",
   "name": "python3"
  },
  "language_info": {
   "codemirror_mode": {
    "name": "ipython",
    "version": 3
   },
   "file_extension": ".py",
   "mimetype": "text/x-python",
   "name": "python",
   "nbconvert_exporter": "python",
   "pygments_lexer": "ipython3",
   "version": "3.6.5"
  }
 },
 "nbformat": 4,
 "nbformat_minor": 2
}
