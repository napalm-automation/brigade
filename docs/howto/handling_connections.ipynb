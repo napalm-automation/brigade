{
 "cells": [
  {
   "cell_type": "markdown",
   "metadata": {},
   "source": [
    "# How to handle connections to devices\n",
    "\n",
    "## Automatically\n",
    "\n",
    "By default, connections are handled automatically:"
   ]
  },
  {
   "cell_type": "code",
   "execution_count": 1,
   "metadata": {},
   "outputs": [],
   "source": [
    "from nornir import InitNornir\n",
    "from nornir.plugins.functions.text import print_result\n",
    "from nornir.plugins.tasks.networking import napalm_get"
   ]
  },
  {
   "cell_type": "code",
   "execution_count": 2,
   "metadata": {},
   "outputs": [
    {
     "name": "stdout",
     "output_type": "stream",
     "text": [
      "\u001b[1m\u001b[36mnapalm_get**********************************************************************\u001b[0m\n",
      "\u001b[0m\u001b[1m\u001b[34m* rtr00 ** changed : False *****************************************************\u001b[0m\n",
      "\u001b[0m\u001b[1m\u001b[32mvvvv napalm_get ** changed : False vvvvvvvvvvvvvvvvvvvvvvvvvvvvvvvvvvvvvvvvvvvvv INFO\u001b[0m\n",
      "\u001b[0m{\u001b[0m \u001b[0m'facts'\u001b[0m: \u001b[0m{\u001b[0m \u001b[0m'fqdn'\u001b[0m: \u001b[0m'localhost'\u001b[0m,\n",
      "             \u001b[0m'hostname'\u001b[0m: \u001b[0m'localhost'\u001b[0m,\n",
      "             \u001b[0m'interface_list'\u001b[0m: \u001b[0m[\u001b[0m \u001b[0m\u001b[0m'Ethernet1'\u001b[0m,\n",
      "                                 \u001b[0m'Ethernet2'\u001b[0m,\n",
      "                                 \u001b[0m'Ethernet3'\u001b[0m,\n",
      "                                 \u001b[0m'Ethernet4'\u001b[0m,\n",
      "                                 \u001b[0m'Management1'\u001b[0m]\u001b[0m,\n",
      "             \u001b[0m'model'\u001b[0m: \u001b[0m'vEOS'\u001b[0m,\n",
      "             \u001b[0m'os_version'\u001b[0m: \u001b[0m'4.15.5M-3054042.4155M'\u001b[0m,\n",
      "             \u001b[0m'serial_number'\u001b[0m: \u001b[0m''\u001b[0m,\n",
      "             \u001b[0m'uptime'\u001b[0m: \u001b[0m'...'\u001b[0m,\n",
      "             \u001b[0m'vendor'\u001b[0m: \u001b[0m'Arista'\u001b[0m}\u001b[0m}\u001b[0m\n",
      "\u001b[0m\u001b[1m\u001b[32m^^^^ END napalm_get ^^^^^^^^^^^^^^^^^^^^^^^^^^^^^^^^^^^^^^^^^^^^^^^^^^^^^^^^^^^^\u001b[0m\n",
      "\u001b[0m"
     ]
    }
   ],
   "source": [
    "nr = InitNornir(config_file=\"handling_connections/config.yaml\")\n",
    "rtr = nr.filter(name=\"rtr00\")\n",
    "r = rtr.run(\n",
    "    task=napalm_get,\n",
    "    getters=[\"facts\"]\n",
    ")\n",
    "print_result(r)"
   ]
  },
  {
   "cell_type": "markdown",
   "metadata": {},
   "source": [
    "## Manually\n",
    "\n",
    "In some circumstances, you may want to manage connections manually. To do so you can use \n",
    "[open_connection](../ref/api/inventory.rst#nornir.core.inventory.Host.open_connection), [close_connection](../ref/api/inventory.rst#nornir.core.inventory.Host.close_connection), [close_connections](../ref/api/inventory.rst#nornir.core.inventory.Host.close_connections) and [Nornir.close_connections](../ref/api/nornir.rst#nornir.core.Nornir.close_connections). For instance:"
   ]
  },
  {
   "cell_type": "code",
   "execution_count": 3,
   "metadata": {},
   "outputs": [
    {
     "name": "stdout",
     "output_type": "stream",
     "text": [
      "\u001b[1m\u001b[36mtask_manages_connection_manually************************************************\u001b[0m\n",
      "\u001b[0m\u001b[1m\u001b[34m* rtr00 ** changed : False *****************************************************\u001b[0m\n",
      "\u001b[0m\u001b[1m\u001b[32mvvvv task_manages_connection_manually ** changed : False vvvvvvvvvvvvvvvvvvvvvvv INFO\u001b[0m\n",
      "\u001b[0m\u001b[1m\u001b[32m---- napalm_get ** changed : False --------------------------------------------- INFO\u001b[0m\n",
      "\u001b[0m{\u001b[0m \u001b[0m'facts'\u001b[0m: \u001b[0m{\u001b[0m \u001b[0m'fqdn'\u001b[0m: \u001b[0m'localhost'\u001b[0m,\n",
      "             \u001b[0m'hostname'\u001b[0m: \u001b[0m'localhost'\u001b[0m,\n",
      "             \u001b[0m'interface_list'\u001b[0m: \u001b[0m[\u001b[0m \u001b[0m\u001b[0m'Ethernet1'\u001b[0m,\n",
      "                                 \u001b[0m'Ethernet2'\u001b[0m,\n",
      "                                 \u001b[0m'Ethernet3'\u001b[0m,\n",
      "                                 \u001b[0m'Ethernet4'\u001b[0m,\n",
      "                                 \u001b[0m'Management1'\u001b[0m]\u001b[0m,\n",
      "             \u001b[0m'model'\u001b[0m: \u001b[0m'vEOS'\u001b[0m,\n",
      "             \u001b[0m'os_version'\u001b[0m: \u001b[0m'4.15.5M-3054042.4155M'\u001b[0m,\n",
      "             \u001b[0m'serial_number'\u001b[0m: \u001b[0m''\u001b[0m,\n",
      "             \u001b[0m'uptime'\u001b[0m: \u001b[0m'...'\u001b[0m,\n",
      "             \u001b[0m'vendor'\u001b[0m: \u001b[0m'Arista'\u001b[0m}\u001b[0m}\u001b[0m\n",
      "\u001b[0m\u001b[1m\u001b[32m^^^^ END task_manages_connection_manually ^^^^^^^^^^^^^^^^^^^^^^^^^^^^^^^^^^^^^^\u001b[0m\n",
      "\u001b[0m"
     ]
    }
   ],
   "source": [
    "def task_manages_connection_manually(task):\n",
    "    task.host.open_connection(\"napalm\", configuration=task.nornir.config)\n",
    "    r = task.run(\n",
    "        task=napalm_get,\n",
    "        getters=[\"facts\"]\n",
    "    )\n",
    "    task.host.close_connection(\"napalm\")\n",
    "    \n",
    "nr = InitNornir(config_file=\"handling_connections/config.yaml\")\n",
    "rtr = nr.filter(name=\"rtr00\")\n",
    "r = rtr.run(\n",
    "    task=task_manages_connection_manually,\n",
    ")\n",
    "print_result(r)"
   ]
  },
  {
   "cell_type": "markdown",
   "metadata": {},
   "source": [
    "## Specifying connection parameters\n",
    "\n",
    "When using the [open_connection](../ref/api/inventory.rst#nornir.core.inventory.Host.open_connection) you can specify any parameters you want. If you don't, or if you let nornir open the connection automatically, nornir will read those parameters from the inventory. You can specify standard attributes at the object level if you want to reuse them across different connections or you can override them for each connection. For example:"
   ]
  },
  {
   "cell_type": "code",
   "execution_count": 4,
   "metadata": {},
   "outputs": [
    {
     "name": "stdout",
     "output_type": "stream",
     "text": [
      "dev1.group_1:\r\n",
      "    port: 65001\r\n",
      "    hostname:\r\n",
      "    username:\r\n",
      "    password: a_password\r\n",
      "    platform: eos\r\n",
      "    data:\r\n",
      "        my_var: comes_from_dev1.group_1\r\n",
      "        www_server: nginx\r\n",
      "        role: www\r\n",
      "        nested_data:\r\n",
      "            a_dict:\r\n",
      "                a: 1\r\n",
      "                b: 2\r\n",
      "            a_list: [1, 2]\r\n",
      "            a_string: asdasd\r\n",
      "    groups:\r\n",
      "        - group_1\r\n",
      "    connection_options:\r\n",
      "        paramiko:\r\n",
      "            port: 65001\r\n",
      "            hostname: 127.0.0.1\r\n",
      "            username: root\r\n",
      "            password: docker\r\n",
      "            platform: linux\r\n",
      "            extras: {}\r\n",
      "        dummy:\r\n",
      "            hostname: dummy_from_host\r\n",
      "            port:\r\n",
      "            username:\r\n",
      "            password:\r\n",
      "            platform:\r\n",
      "            extras:\r\n",
      "                blah: from_host\r\n",
      "\u001b[0m\u001b[0m"
     ]
    }
   ],
   "source": [
    "!sed '2,35!d' ../../tests/inventory_data/hosts.yaml"
   ]
  }
 ],
 "metadata": {
  "kernelspec": {
   "display_name": "Python 3",
   "language": "python",
   "name": "python3"
  },
  "language_info": {
   "codemirror_mode": {
    "name": "ipython",
    "version": 3
   },
   "file_extension": ".py",
   "mimetype": "text/x-python",
   "name": "python",
   "nbconvert_exporter": "python",
   "pygments_lexer": "ipython3",
   "version": "3.6.5"
  }
 },
 "nbformat": 4,
 "nbformat_minor": 2
}
