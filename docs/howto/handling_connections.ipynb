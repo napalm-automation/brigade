{
 "cells": [
  {
   "cell_type": "markdown",
   "metadata": {},
   "source": [
    "# How to handle connections to devices\n",
    "\n",
    "## Automatically\n",
    "\n",
    "By default, connections are handled automatically:"
   ]
  },
  {
   "cell_type": "code",
   "execution_count": 1,
   "metadata": {},
   "outputs": [],
   "source": [
    "from nornir.core import InitNornir\n",
    "from nornir.plugins.functions.text import print_result\n",
    "from nornir.plugins.tasks.networking import napalm_get"
   ]
  },
  {
   "cell_type": "code",
   "execution_count": 2,
   "metadata": {},
   "outputs": [
    {
     "name": "stdout",
     "output_type": "stream",
     "text": [
      "\u001b[1m\u001b[36mnapalm_get**********************************************************************\u001b[0m\n",
      "\u001b[0m\u001b[1m\u001b[34m* rtr00 ** changed : False *****************************************************\u001b[0m\n",
      "\u001b[0m\u001b[1m\u001b[32mvvvv napalm_get ** changed : False vvvvvvvvvvvvvvvvvvvvvvvvvvvvvvvvvvvvvvvvvvvvv INFO\u001b[0m\n",
      "\u001b[0m{\u001b[0m \u001b[0m'facts'\u001b[0m: \u001b[0m{\u001b[0m \u001b[0m'fqdn'\u001b[0m: \u001b[0m'localhost'\u001b[0m,\n",
      "             \u001b[0m'hostname'\u001b[0m: \u001b[0m'localhost'\u001b[0m,\n",
      "             \u001b[0m'interface_list'\u001b[0m: \u001b[0m[\u001b[0m \u001b[0m\u001b[0m'Ethernet1'\u001b[0m,\n",
      "                                 \u001b[0m'Ethernet2'\u001b[0m,\n",
      "                                 \u001b[0m'Ethernet3'\u001b[0m,\n",
      "                                 \u001b[0m'Ethernet4'\u001b[0m,\n",
      "                                 \u001b[0m'Management1'\u001b[0m]\u001b[0m,\n",
      "             \u001b[0m'model'\u001b[0m: \u001b[0m'vEOS'\u001b[0m,\n",
      "             \u001b[0m'os_version'\u001b[0m: \u001b[0m'4.15.5M-3054042.4155M'\u001b[0m,\n",
      "             \u001b[0m'serial_number'\u001b[0m: \u001b[0m''\u001b[0m,\n",
      "             \u001b[0m'uptime'\u001b[0m: \u001b[0m'...'\u001b[0m,\n",
      "             \u001b[0m'vendor'\u001b[0m: \u001b[0m'Arista'\u001b[0m}\u001b[0m}\u001b[0m\n",
      "\u001b[0m\u001b[1m\u001b[32m^^^^ END napalm_get ^^^^^^^^^^^^^^^^^^^^^^^^^^^^^^^^^^^^^^^^^^^^^^^^^^^^^^^^^^^^\u001b[0m\n",
      "\u001b[0m"
     ]
    }
   ],
   "source": [
    "nr = InitNornir(config_file=\"handling_connections/config.yaml\")\n",
    "rtr = nr.filter(name=\"rtr00\")\n",
    "r = rtr.run(\n",
    "    task=napalm_get,\n",
    "    getters=[\"facts\"]\n",
    ")\n",
    "print_result(r)"
   ]
  },
  {
   "cell_type": "markdown",
   "metadata": {},
   "source": [
    "## Manually\n",
    "\n",
    "In some circumstances, you may want to manage connections manually. To do so you can use \n",
    "[open_connection](../ref/api/inventory.rst#nornir.core.inventory.Host.open_connection), [close_connection](../ref/api/inventory.rst#nornir.core.inventory.Host.close_connection), [close_connections](../ref/api/inventory.rst#nornir.core.inventory.Host.close_connections) and [Nornir.close_connections](../ref/api/nornir.rst#nornir.core.Nornir.close_connections). For instance:"
   ]
  },
  {
   "cell_type": "code",
   "execution_count": 3,
   "metadata": {},
   "outputs": [
    {
     "name": "stdout",
     "output_type": "stream",
     "text": [
      "\u001b[1m\u001b[36mtask_manages_connection_manually************************************************\u001b[0m\n",
      "\u001b[0m\u001b[1m\u001b[34m* rtr00 ** changed : False *****************************************************\u001b[0m\n",
      "\u001b[0m\u001b[1m\u001b[31mvvvv task_manages_connection_manually ** changed : False vvvvvvvvvvvvvvvvvvvvvvv ERROR\u001b[0m\n",
      "\u001b[0mTraceback (most recent call last):\n",
      "  File \"/Users/dbarroso/workspace/nornir/nornir/core/task.py\", line 63, in start\n",
      "    r = self.task(self, **self.params)\n",
      "  File \"<ipython-input-3-27058784ffcd>\", line 5, in task_manages_connection_manually\n",
      "    getters=[\"facts\"]\n",
      "  File \"/Users/dbarroso/workspace/nornir/nornir/core/task.py\", line 100, in run\n",
      "    raise Exception(msg)\n",
      "Exception: ('You have to call this after setting host and nornir attributes. ', 'You probably called this from outside a nested task')\n",
      "\u001b[0m\n",
      "\u001b[0m\u001b[1m\u001b[31m^^^^ END task_manages_connection_manually ^^^^^^^^^^^^^^^^^^^^^^^^^^^^^^^^^^^^^^\u001b[0m\n",
      "\u001b[0m"
     ]
    }
   ],
   "source": [
    "def task_manages_connection_manually(task):\n",
    "    task.host.open_connection(\"napalm\")\n",
    "    r = task.run(\n",
    "        task=napalm_get,\n",
    "        getters=[\"facts\"]\n",
    "    )\n",
    "    task.host.close_connection(\"napalm\")\n",
    "    \n",
    "nr = InitNornir(config_file=\"handling_connections/config.yaml\")\n",
    "rtr = nr.filter(name=\"rtr00\")\n",
    "r = rtr.run(\n",
    "    task=task_manages_connection_manually,\n",
    ")\n",
    "print_result(r)"
   ]
  },
  {
   "cell_type": "markdown",
   "metadata": {},
   "source": [
    "## Specifying connection parameters\n",
    "\n",
    "When using the [open_connection](../ref/api/inventory.rst#nornir.core.inventory.Host.open_connection) you can specify any parameters you want. If you don't, or if you let nornir open the connection automatically, nornir will read those parameters from the inventory. You can specify standard attributes at the object level if you want to reuse them across different connections or you can override them for each connection:\n",
    "\n",
    "```\n",
    "my_host:\n",
    "    # standard parameters that will be reused across different connections\n",
    "    username: my_user\n",
    "    password: my_password\n",
    "    port: 22\n",
    "    platform: linux\n",
    "    napalm_options:\n",
    "        # standard parameters that will be used only for the napalm connection\n",
    "        # missing parameters will be read from the top level\n",
    "        port: 443\n",
    "        platform: eos\n",
    "        connection_options:\n",
    "            # advanced options that are specific to this connection type\n",
    "            optional_args:\n",
    "                eos_autoComplete: true\n",
    "    netmiko_options:\n",
    "        platform: arista_eos\n",
    "        connection_options:\n",
    "            global_delay: 2\n",
    "```"
   ]
  }
 ],
 "metadata": {
  "kernelspec": {
   "display_name": "Python 3",
   "language": "python",
   "name": "python3"
  },
  "language_info": {
   "codemirror_mode": {
    "name": "ipython",
    "version": 3
   },
   "file_extension": ".py",
   "mimetype": "text/x-python",
   "name": "python",
   "nbconvert_exporter": "python",
   "pygments_lexer": "ipython3",
   "version": "3.6.5"
  }
 },
 "nbformat": 4,
 "nbformat_minor": 2
}
