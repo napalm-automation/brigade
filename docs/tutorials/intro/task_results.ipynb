{
 "cells": [
  {
   "cell_type": "markdown",
   "metadata": {},
   "source": [
    "# Processing results\n",
    "\n",
    "In this tutorial we are going to see how we can process the results of running tasks.\n",
    "\n",
    "Let's start with some code we have seen already:"
   ]
  },
  {
   "cell_type": "code",
   "execution_count": 1,
   "metadata": {},
   "outputs": [],
   "source": [
    "from nornir import InitNornir\n",
    "from nornir.plugins.tasks import networking, text\n",
    "from nornir.plugins.functions.text import print_title\n",
    "import logging\n",
    "\n",
    "nr = InitNornir(config_file=\"config.yaml\", dry_run=True)\n",
    "cmh = nr.filter(site=\"cmh\", type=\"network_device\")\n",
    "\n",
    "def basic_configuration(task):\n",
    "    # Transform inventory data to configuration via a template file\n",
    "    r = task.run(task=text.template_file,\n",
    "                 name=\"Base Configuration\",\n",
    "                 template=\"base.j2\",\n",
    "                 path=f\"templates/{task.host.platform}\",\n",
    "                 severity_level=logging.DEBUG)\n",
    "\n",
    "    # Save the compiled configuration into a host variable\n",
    "    task.host[\"config\"] = r.result\n",
    "\n",
    "    # Deploy that configuration to the device using NAPALM\n",
    "    task.run(task=networking.napalm_configure,\n",
    "             name=\"Loading Configuration on the device\",\n",
    "             replace=False,\n",
    "             configuration=task.host[\"config\"],\n",
    "             severity_level=logging.INFO)"
   ]
  },
  {
   "cell_type": "markdown",
   "metadata": {},
   "source": [
    "Now, let's call the task group so we can start inspecting the result object:"
   ]
  },
  {
   "cell_type": "code",
   "execution_count": 2,
   "metadata": {},
   "outputs": [],
   "source": [
    "result = cmh.run(task=basic_configuration)"
   ]
  },
  {
   "cell_type": "markdown",
   "metadata": {},
   "source": [
    "## The easy way\n",
    "\n",
    "Most of the time you will just want to provide some feedback on what's going on. For that you can use [print_result](../../plugins/functions/text.rst#nornir.plugins.functions.text.print_result) function:"
   ]
  },
  {
   "cell_type": "code",
   "execution_count": 3,
   "metadata": {},
   "outputs": [
    {
     "name": "stdout",
     "output_type": "stream",
     "text": [
      "\u001b[1m\u001b[36mbasic_configuration*************************************************************\u001b[0m\n",
      "\u001b[0m\u001b[1m\u001b[34m* leaf00.cmh ** changed : True *************************************************\u001b[0m\n",
      "\u001b[0m\u001b[1m\u001b[32mvvvv basic_configuration ** changed : False vvvvvvvvvvvvvvvvvvvvvvvvvvvvvvvvvvvv INFO\u001b[0m\n",
      "\u001b[0m\u001b[1m\u001b[33m---- Loading Configuration on the device ** changed : True --------------------- INFO\u001b[0m\n",
      "\u001b[0m@@ -7,6 +7,9 @@\n",
      "    action bash sudo /mnt/flash/initialize_ma1.sh\n",
      " !\n",
      " transceiver qsfp default-mode 4x10G\n",
      "+!\n",
      "+hostname leaf00.cmh\n",
      "+ip domain-name cmh.acme.local\n",
      " !\n",
      " spanning-tree mode mstp\n",
      " !\u001b[0m\n",
      "\u001b[0m\u001b[1m\u001b[32m^^^^ END basic_configuration ^^^^^^^^^^^^^^^^^^^^^^^^^^^^^^^^^^^^^^^^^^^^^^^^^^^\u001b[0m\n",
      "\u001b[0m\u001b[1m\u001b[34m* leaf01.cmh ** changed : True *************************************************\u001b[0m\n",
      "\u001b[0m\u001b[1m\u001b[32mvvvv basic_configuration ** changed : False vvvvvvvvvvvvvvvvvvvvvvvvvvvvvvvvvvvv INFO\u001b[0m\n",
      "\u001b[0m\u001b[1m\u001b[33m---- Loading Configuration on the device ** changed : True --------------------- INFO\u001b[0m\n",
      "\u001b[0m[edit system]\n",
      "-  host-name vsrx;\n",
      "+  host-name leaf01.cmh;\n",
      "+  domain-name cmh.acme.local;\u001b[0m\n",
      "\u001b[0m\u001b[1m\u001b[32m^^^^ END basic_configuration ^^^^^^^^^^^^^^^^^^^^^^^^^^^^^^^^^^^^^^^^^^^^^^^^^^^\u001b[0m\n",
      "\u001b[0m\u001b[1m\u001b[34m* spine00.cmh ** changed : True ************************************************\u001b[0m\n",
      "\u001b[0m\u001b[1m\u001b[32mvvvv basic_configuration ** changed : False vvvvvvvvvvvvvvvvvvvvvvvvvvvvvvvvvvvv INFO\u001b[0m\n",
      "\u001b[0m\u001b[1m\u001b[33m---- Loading Configuration on the device ** changed : True --------------------- INFO\u001b[0m\n",
      "\u001b[0m@@ -7,6 +7,9 @@\n",
      "    action bash sudo /mnt/flash/initialize_ma1.sh\n",
      " !\n",
      " transceiver qsfp default-mode 4x10G\n",
      "+!\n",
      "+hostname spine00.cmh\n",
      "+ip domain-name cmh.acme.local\n",
      " !\n",
      " spanning-tree mode mstp\n",
      " !\u001b[0m\n",
      "\u001b[0m\u001b[1m\u001b[32m^^^^ END basic_configuration ^^^^^^^^^^^^^^^^^^^^^^^^^^^^^^^^^^^^^^^^^^^^^^^^^^^\u001b[0m\n",
      "\u001b[0m\u001b[1m\u001b[34m* spine01.cmh ** changed : True ************************************************\u001b[0m\n",
      "\u001b[0m\u001b[1m\u001b[32mvvvv basic_configuration ** changed : False vvvvvvvvvvvvvvvvvvvvvvvvvvvvvvvvvvvv INFO\u001b[0m\n",
      "\u001b[0m\u001b[1m\u001b[33m---- Loading Configuration on the device ** changed : True --------------------- INFO\u001b[0m\n",
      "\u001b[0m[edit system]\n",
      "-  host-name vsrx;\n",
      "+  host-name spine01.cmh;\n",
      "+  domain-name cmh.acme.local;\u001b[0m\n",
      "\u001b[0m\u001b[1m\u001b[32m^^^^ END basic_configuration ^^^^^^^^^^^^^^^^^^^^^^^^^^^^^^^^^^^^^^^^^^^^^^^^^^^\u001b[0m\n",
      "\u001b[0m"
     ]
    }
   ],
   "source": [
    "from nornir.plugins.functions.text import print_result\n",
    "\n",
    "print_result(result)"
   ]
  },
  {
   "cell_type": "markdown",
   "metadata": {},
   "source": [
    "You should also be able to print a single host:"
   ]
  },
  {
   "cell_type": "code",
   "execution_count": 4,
   "metadata": {},
   "outputs": [
    {
     "name": "stdout",
     "output_type": "stream",
     "text": [
      "\u001b[1m\u001b[32mvvvv basic_configuration ** changed : False vvvvvvvvvvvvvvvvvvvvvvvvvvvvvvvvvvvv INFO\u001b[0m\n",
      "\u001b[0m\u001b[1m\u001b[33m---- Loading Configuration on the device ** changed : True --------------------- INFO\u001b[0m\n",
      "\u001b[0m@@ -7,6 +7,9 @@\n",
      "    action bash sudo /mnt/flash/initialize_ma1.sh\n",
      " !\n",
      " transceiver qsfp default-mode 4x10G\n",
      "+!\n",
      "+hostname spine00.cmh\n",
      "+ip domain-name cmh.acme.local\n",
      " !\n",
      " spanning-tree mode mstp\n",
      " !\u001b[0m\n",
      "\u001b[0m\u001b[1m\u001b[32m^^^^ END basic_configuration ^^^^^^^^^^^^^^^^^^^^^^^^^^^^^^^^^^^^^^^^^^^^^^^^^^^\u001b[0m\n",
      "\u001b[0m"
     ]
    }
   ],
   "source": [
    "print_result(result[\"spine00.cmh\"])"
   ]
  },
  {
   "cell_type": "markdown",
   "metadata": {},
   "source": [
    "Or even a single task:"
   ]
  },
  {
   "cell_type": "code",
   "execution_count": 5,
   "metadata": {},
   "outputs": [
    {
     "name": "stdout",
     "output_type": "stream",
     "text": [
      "\u001b[1m\u001b[33m---- Loading Configuration on the device ** changed : True --------------------- INFO\u001b[0m\n",
      "\u001b[0m@@ -7,6 +7,9 @@\n",
      "    action bash sudo /mnt/flash/initialize_ma1.sh\n",
      " !\n",
      " transceiver qsfp default-mode 4x10G\n",
      "+!\n",
      "+hostname spine00.cmh\n",
      "+ip domain-name cmh.acme.local\n",
      " !\n",
      " spanning-tree mode mstp\n",
      " !\u001b[0m\n",
      "\u001b[0m"
     ]
    }
   ],
   "source": [
    "print_result(result[\"spine00.cmh\"][2])"
   ]
  },
  {
   "cell_type": "markdown",
   "metadata": {},
   "source": [
    "As you probably noticed, not all the tasks where printed. If you check the tests they all got a new argument `severity_level`. This let's us flag tasks with any of the logging levels. Then `print_result` is able to following logging rules to print the results. By default only tasks marked as `INFO` will be printed (this is also the default for the tasks if none is specified). Note that a failed task will have its severity level changed to `ERROR` regardless of the one specified by the user.\n",
    "\n",
    "Now let's tell `print_result` to print tasks marked as `DEBUG`."
   ]
  },
  {
   "cell_type": "code",
   "execution_count": 6,
   "metadata": {},
   "outputs": [
    {
     "name": "stdout",
     "output_type": "stream",
     "text": [
      "\u001b[1m\u001b[36mbasic_configuration*************************************************************\u001b[0m\n",
      "\u001b[0m\u001b[1m\u001b[34m* leaf00.cmh ** changed : True *************************************************\u001b[0m\n",
      "\u001b[0m\u001b[1m\u001b[32mvvvv basic_configuration ** changed : False vvvvvvvvvvvvvvvvvvvvvvvvvvvvvvvvvvvv INFO\u001b[0m\n",
      "\u001b[0m\u001b[1m\u001b[32m---- Base Configuration ** changed : False ------------------------------------- DEBUG\u001b[0m\n",
      "\u001b[0mhostname leaf00.cmh\n",
      "ip domain-name cmh.acme.local\u001b[0m\n",
      "\u001b[0m\u001b[1m\u001b[33m---- Loading Configuration on the device ** changed : True --------------------- INFO\u001b[0m\n",
      "\u001b[0m@@ -7,6 +7,9 @@\n",
      "    action bash sudo /mnt/flash/initialize_ma1.sh\n",
      " !\n",
      " transceiver qsfp default-mode 4x10G\n",
      "+!\n",
      "+hostname leaf00.cmh\n",
      "+ip domain-name cmh.acme.local\n",
      " !\n",
      " spanning-tree mode mstp\n",
      " !\u001b[0m\n",
      "\u001b[0m\u001b[1m\u001b[32m^^^^ END basic_configuration ^^^^^^^^^^^^^^^^^^^^^^^^^^^^^^^^^^^^^^^^^^^^^^^^^^^\u001b[0m\n",
      "\u001b[0m\u001b[1m\u001b[34m* leaf01.cmh ** changed : True *************************************************\u001b[0m\n",
      "\u001b[0m\u001b[1m\u001b[32mvvvv basic_configuration ** changed : False vvvvvvvvvvvvvvvvvvvvvvvvvvvvvvvvvvvv INFO\u001b[0m\n",
      "\u001b[0m\u001b[1m\u001b[32m---- Base Configuration ** changed : False ------------------------------------- DEBUG\u001b[0m\n",
      "\u001b[0msystem {\n",
      "  host-name leaf01.cmh;\n",
      "  domain-name cmh.acme.local;\n",
      "}\u001b[0m\n",
      "\u001b[0m\u001b[1m\u001b[33m---- Loading Configuration on the device ** changed : True --------------------- INFO\u001b[0m\n",
      "\u001b[0m[edit system]\n",
      "-  host-name vsrx;\n",
      "+  host-name leaf01.cmh;\n",
      "+  domain-name cmh.acme.local;\u001b[0m\n",
      "\u001b[0m\u001b[1m\u001b[32m^^^^ END basic_configuration ^^^^^^^^^^^^^^^^^^^^^^^^^^^^^^^^^^^^^^^^^^^^^^^^^^^\u001b[0m\n",
      "\u001b[0m\u001b[1m\u001b[34m* spine00.cmh ** changed : True ************************************************\u001b[0m\n",
      "\u001b[0m\u001b[1m\u001b[32mvvvv basic_configuration ** changed : False vvvvvvvvvvvvvvvvvvvvvvvvvvvvvvvvvvvv INFO\u001b[0m\n",
      "\u001b[0m\u001b[1m\u001b[32m---- Base Configuration ** changed : False ------------------------------------- DEBUG\u001b[0m\n",
      "\u001b[0mhostname spine00.cmh\n",
      "ip domain-name cmh.acme.local\u001b[0m\n",
      "\u001b[0m\u001b[1m\u001b[33m---- Loading Configuration on the device ** changed : True --------------------- INFO\u001b[0m\n",
      "\u001b[0m@@ -7,6 +7,9 @@\n",
      "    action bash sudo /mnt/flash/initialize_ma1.sh\n",
      " !\n",
      " transceiver qsfp default-mode 4x10G\n",
      "+!\n",
      "+hostname spine00.cmh\n",
      "+ip domain-name cmh.acme.local\n",
      " !\n",
      " spanning-tree mode mstp\n",
      " !\u001b[0m\n",
      "\u001b[0m\u001b[1m\u001b[32m^^^^ END basic_configuration ^^^^^^^^^^^^^^^^^^^^^^^^^^^^^^^^^^^^^^^^^^^^^^^^^^^\u001b[0m\n",
      "\u001b[0m\u001b[1m\u001b[34m* spine01.cmh ** changed : True ************************************************\u001b[0m\n",
      "\u001b[0m\u001b[1m\u001b[32mvvvv basic_configuration ** changed : False vvvvvvvvvvvvvvvvvvvvvvvvvvvvvvvvvvvv INFO\u001b[0m\n",
      "\u001b[0m\u001b[1m\u001b[32m---- Base Configuration ** changed : False ------------------------------------- DEBUG\u001b[0m\n",
      "\u001b[0msystem {\n",
      "  host-name spine01.cmh;\n",
      "  domain-name cmh.acme.local;\n",
      "}\u001b[0m\n",
      "\u001b[0m\u001b[1m\u001b[33m---- Loading Configuration on the device ** changed : True --------------------- INFO\u001b[0m\n",
      "\u001b[0m[edit system]\n",
      "-  host-name vsrx;\n",
      "+  host-name spine01.cmh;\n",
      "+  domain-name cmh.acme.local;\u001b[0m\n",
      "\u001b[0m\u001b[1m\u001b[32m^^^^ END basic_configuration ^^^^^^^^^^^^^^^^^^^^^^^^^^^^^^^^^^^^^^^^^^^^^^^^^^^\u001b[0m\n",
      "\u001b[0m"
     ]
    }
   ],
   "source": [
    "print_result(result, severity_level=logging.DEBUG)"
   ]
  },
  {
   "cell_type": "markdown",
   "metadata": {},
   "source": [
    "## The programmatic way\n",
    "\n",
    "We have hinted already how to deal with result objects already but let's elaborate on that. To begin with, task groups will return an [AggregatedResult](../../ref/api/task.rst#nornir.core.task.AggregatedResult). This object is a dict-like object you can use to iterate over or access directly hosts:"
   ]
  },
  {
   "cell_type": "code",
   "execution_count": 7,
   "metadata": {},
   "outputs": [
    {
     "data": {
      "text/plain": [
       "AggregatedResult (basic_configuration): {'spine00.cmh': MultiResult: [Result: \"basic_configuration\", Result: \"Base Configuration\", Result: \"Loading Configuration on the device\"], 'spine01.cmh': MultiResult: [Result: \"basic_configuration\", Result: \"Base Configuration\", Result: \"Loading Configuration on the device\"], 'leaf00.cmh': MultiResult: [Result: \"basic_configuration\", Result: \"Base Configuration\", Result: \"Loading Configuration on the device\"], 'leaf01.cmh': MultiResult: [Result: \"basic_configuration\", Result: \"Base Configuration\", Result: \"Loading Configuration on the device\"]}"
      ]
     },
     "execution_count": 7,
     "metadata": {},
     "output_type": "execute_result"
    }
   ],
   "source": [
    "result"
   ]
  },
  {
   "cell_type": "code",
   "execution_count": 8,
   "metadata": {},
   "outputs": [
    {
     "data": {
      "text/plain": [
       "dict_keys(['spine00.cmh', 'spine01.cmh', 'leaf00.cmh', 'leaf01.cmh'])"
      ]
     },
     "execution_count": 8,
     "metadata": {},
     "output_type": "execute_result"
    }
   ],
   "source": [
    "result.keys()"
   ]
  },
  {
   "cell_type": "code",
   "execution_count": 9,
   "metadata": {},
   "outputs": [
    {
     "data": {
      "text/plain": [
       "MultiResult: [Result: \"basic_configuration\", Result: \"Base Configuration\", Result: \"Loading Configuration on the device\"]"
      ]
     },
     "execution_count": 9,
     "metadata": {},
     "output_type": "execute_result"
    }
   ],
   "source": [
    "result[\"spine00.cmh\"]"
   ]
  },
  {
   "cell_type": "markdown",
   "metadata": {},
   "source": [
    "You probably noticed that inside each key in [AggregatedResult](../../ref/api/task.rst#nornir.core.task.AggregatedResult) there is a [MultiResult](../../ref/api/task.rst#nornir.core.task.MultiResult) object. This object is a list-like object you can use to iterate over or access any [Result](../../ref/api/task.rst#nornir.core.task.Result) you want:"
   ]
  },
  {
   "cell_type": "code",
   "execution_count": 10,
   "metadata": {},
   "outputs": [
    {
     "data": {
      "text/plain": [
       "Result: \"basic_configuration\""
      ]
     },
     "execution_count": 10,
     "metadata": {},
     "output_type": "execute_result"
    }
   ],
   "source": [
    "result[\"spine00.cmh\"][0]"
   ]
  },
  {
   "cell_type": "markdown",
   "metadata": {},
   "source": [
    "Both `MultiResult` and `Result` should clearly indicate if there was some error or change in the system:"
   ]
  },
  {
   "cell_type": "code",
   "execution_count": 11,
   "metadata": {},
   "outputs": [
    {
     "name": "stdout",
     "output_type": "stream",
     "text": [
      "changed: \u001b[0m \u001b[0mTrue\u001b[0m\n",
      "\u001b[0mfailed: \u001b[0m \u001b[0mFalse\u001b[0m\n",
      "\u001b[0m"
     ]
    }
   ],
   "source": [
    "print(\"changed: \", result[\"spine00.cmh\"].changed)\n",
    "print(\"failed: \", result[\"spine00.cmh\"].failed)"
   ]
  },
  {
   "cell_type": "code",
   "execution_count": 12,
   "metadata": {},
   "outputs": [
    {
     "name": "stdout",
     "output_type": "stream",
     "text": [
      "changed: \u001b[0m \u001b[0mFalse\u001b[0m\n",
      "\u001b[0mfailed: \u001b[0m \u001b[0mFalse\u001b[0m\n",
      "\u001b[0m"
     ]
    }
   ],
   "source": [
    "print(\"changed: \", result[\"spine00.cmh\"][0].changed)\n",
    "print(\"failed: \", result[\"spine00.cmh\"][0].failed)"
   ]
  },
  {
   "cell_type": "markdown",
   "metadata": {},
   "source": [
    "You should be able to access any extra data a particular task might have set:"
   ]
  },
  {
   "cell_type": "code",
   "execution_count": 13,
   "metadata": {},
   "outputs": [
    {
     "name": "stdout",
     "output_type": "stream",
     "text": [
      "@@ -7,6 +7,9 @@\n",
      "    action bash sudo /mnt/flash/initialize_ma1.sh\n",
      " !\n",
      " transceiver qsfp default-mode 4x10G\n",
      "+!\n",
      "+hostname spine00.cmh\n",
      "+ip domain-name cmh.acme.local\n",
      " !\n",
      " spanning-tree mode mstp\n",
      " !\u001b[0m\n",
      "\u001b[0m"
     ]
    }
   ],
   "source": [
    "print(result[\"spine00.cmh\"][2].diff)"
   ]
  },
  {
   "cell_type": "markdown",
   "metadata": {},
   "source": [
    "This latter will depend on the task executed so you will have to refer to the documentation of the task to see what might have been populated by it."
   ]
  }
 ],
 "metadata": {
  "kernelspec": {
   "display_name": "Python 3",
   "language": "python",
   "name": "python3"
  },
  "language_info": {
   "codemirror_mode": {
    "name": "ipython",
    "version": 3
   },
   "file_extension": ".py",
   "mimetype": "text/x-python",
   "name": "python",
   "nbconvert_exporter": "python",
   "pygments_lexer": "ipython3",
   "version": "3.7.0"
  }
 },
 "nbformat": 4,
 "nbformat_minor": 2
}
