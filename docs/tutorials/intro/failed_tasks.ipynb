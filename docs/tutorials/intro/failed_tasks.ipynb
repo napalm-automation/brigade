{
 "cells": [
  {
   "cell_type": "markdown",
   "metadata": {},
   "source": [
    "# Failed Tasks\n",
    "\n",
    "Sometimes tasks can fail. Let's see how to deal with failed tasks in brigade.\n",
    "\n",
    "Let's start as usual with the needed boilerplate:"
   ]
  },
  {
   "cell_type": "code",
   "execution_count": 1,
   "metadata": {},
   "outputs": [],
   "source": [
    "from brigade.core import InitBrigade\n",
    "from brigade.plugins.tasks import networking, text\n",
    "from brigade.plugins.functions.text import print_result\n",
    "\n",
    "brg = InitBrigade(config_file=\"config.yaml\")\n",
    "cmh = brg.filter(site=\"cmh\", type=\"network_device\")"
   ]
  },
  {
   "cell_type": "markdown",
   "metadata": {},
   "source": [
    "Now, as an example we are going to use a similar task group like the one we used in the previous tutorial:"
   ]
  },
  {
   "cell_type": "code",
   "execution_count": 2,
   "metadata": {},
   "outputs": [],
   "source": [
    "def basic_configuration(task):\n",
    "    # Transform inventory data to configuration via a template file\n",
    "    r = task.run(task=text.template_file,\n",
    "                 name=\"Base Configuration\",\n",
    "                 template=\"base.j2\",\n",
    "                 path=f\"templates/junos\")\n",
    "\n",
    "    # Save the compiled configuration into a host variable\n",
    "    task.host[\"config\"] = r.result\n",
    "\n",
    "    # Deploy that configuration to the device using NAPALM\n",
    "    task.run(task=networking.napalm_configure,\n",
    "             name=\"Loading Configuration on the device\",\n",
    "             replace=False,\n",
    "             configuration=task.host[\"config\"])"
   ]
  },
  {
   "cell_type": "markdown",
   "metadata": {},
   "source": [
    "Note that the path is hardcoded to templates/junos, this should cause an error when trying to apply the configuration to the EOS devices. Let's see what happens:"
   ]
  },
  {
   "cell_type": "code",
   "execution_count": 3,
   "metadata": {},
   "outputs": [],
   "source": [
    "result = cmh.run(task=basic_configuration)"
   ]
  },
  {
   "cell_type": "markdown",
   "metadata": {},
   "source": [
    "Let's inspect the object:"
   ]
  },
  {
   "cell_type": "code",
   "execution_count": 4,
   "metadata": {},
   "outputs": [
    {
     "data": {
      "text/plain": [
       "True"
      ]
     },
     "execution_count": 4,
     "metadata": {},
     "output_type": "execute_result"
    }
   ],
   "source": [
    "result.failed"
   ]
  },
  {
   "cell_type": "code",
   "execution_count": 5,
   "metadata": {},
   "outputs": [
    {
     "data": {
      "text/plain": [
       "{'leaf00.cmh': MultiResult: [Result: \"basic_configuration\", Result: \"Base Configuration\", Result: \"Loading Configuration on the device\"],\n",
       " 'spine00.cmh': MultiResult: [Result: \"basic_configuration\", Result: \"Base Configuration\", Result: \"Loading Configuration on the device\"]}"
      ]
     },
     "execution_count": 5,
     "metadata": {},
     "output_type": "execute_result"
    }
   ],
   "source": [
    "result.failed_hosts"
   ]
  },
  {
   "cell_type": "code",
   "execution_count": 6,
   "metadata": {},
   "outputs": [],
   "source": [
    "result['spine00.cmh'][1].exception"
   ]
  },
  {
   "cell_type": "markdown",
   "metadata": {},
   "source": [
    "As you can see, the result object is aware something went wrong and you can inspect the errors if you so desire.\n",
    "\n",
    "You can also using the `print_result` function on it:"
   ]
  },
  {
   "cell_type": "code",
   "execution_count": 7,
   "metadata": {},
   "outputs": [
    {
     "name": "stdout",
     "output_type": "stream",
     "text": [
      "\u001b[1m\u001b[36mbasic_configuration*************************************************************\u001b[0m\n",
      "\u001b[0m\u001b[1m\u001b[34m* spine00.cmh ** changed : False ***********************************************\u001b[0m\n",
      "\u001b[0m\u001b[1m\u001b[32mvvvv basic_configuration ** changed : False vvvvvvvvvvvvvvvvvvvvvvvvvvvvvvvvvvvv INFO\u001b[0m\n",
      "\u001b[0m\u001b[1m\u001b[32m---- Base Configuration ** changed : False ------------------------------------- INFO\u001b[0m\n",
      "\u001b[0msystem {\n",
      "  host-name spine00.cmh;\n",
      "  domain-name cmh.acme.local;\n",
      "}\u001b[0m\n",
      "\u001b[0m\u001b[1m\u001b[31m---- Loading Configuration on the device ** changed : False -------------------- ERROR\u001b[0m\n",
      "\u001b[0mTraceback (most recent call last):\n",
      "  File \"/Users/dbarroso/.virtualenvs/brigade/lib/python3.6/site-packages/napalm/eos/eos.py\", line 231, in _load_config\n",
      "    self.device.run_commands(commands)\n",
      "  File \"/Users/dbarroso/.virtualenvs/brigade/lib/python3.6/site-packages/pyeapi/client.py\", line 730, in run_commands\n",
      "    response = self._connection.execute(commands, encoding, **kwargs)\n",
      "  File \"/Users/dbarroso/.virtualenvs/brigade/lib/python3.6/site-packages/pyeapi/eapilib.py\", line 499, in execute\n",
      "    response = self.send(request)\n",
      "  File \"/Users/dbarroso/.virtualenvs/brigade/lib/python3.6/site-packages/pyeapi/eapilib.py\", line 418, in send\n",
      "    raise CommandError(code, msg, command_error=err, output=out)\n",
      "pyeapi.eapilib.CommandError: Error [1002]: CLI command 3 of 6 'system {' failed: invalid command [Invalid input (at token 1: '{')]\n",
      "\n",
      "During handling of the above exception, another exception occurred:\n",
      "\n",
      "Traceback (most recent call last):\n",
      "  File \"/Users/dbarroso/.virtualenvs/brigade/lib/python3.6/site-packages/brigade/core/task.py\", line 61, in start\n",
      "    r = self.task(self, **self.params)\n",
      "  File \"/Users/dbarroso/.virtualenvs/brigade/lib/python3.6/site-packages/brigade/plugins/tasks/networking/napalm_configure.py\", line 26, in napalm_configure\n",
      "    device.load_merge_candidate(filename=filename, config=configuration)\n",
      "  File \"/Users/dbarroso/.virtualenvs/brigade/lib/python3.6/site-packages/napalm/eos/eos.py\", line 245, in load_merge_candidate\n",
      "    self._load_config(filename, config, False)\n",
      "  File \"/Users/dbarroso/.virtualenvs/brigade/lib/python3.6/site-packages/napalm/eos/eos.py\", line 237, in _load_config\n",
      "    raise MergeConfigException(e.message)\n",
      "napalm.base.exceptions.MergeConfigException: Error [1002]: CLI command 3 of 6 'system {' failed: invalid command [Invalid input (at token 1: '{')]\n",
      "\u001b[0m\n",
      "\u001b[0m\u001b[1m\u001b[32m^^^^ END basic_configuration ^^^^^^^^^^^^^^^^^^^^^^^^^^^^^^^^^^^^^^^^^^^^^^^^^^^\u001b[0m\n",
      "\u001b[0m\u001b[1m\u001b[34m* spine01.cmh ** changed : True ************************************************\u001b[0m\n",
      "\u001b[0m\u001b[1m\u001b[32mvvvv basic_configuration ** changed : False vvvvvvvvvvvvvvvvvvvvvvvvvvvvvvvvvvvv INFO\u001b[0m\n",
      "\u001b[0m\u001b[1m\u001b[32m---- Base Configuration ** changed : False ------------------------------------- INFO\u001b[0m\n",
      "\u001b[0msystem {\n",
      "  host-name spine01.cmh;\n",
      "  domain-name cmh.acme.local;\n",
      "}\u001b[0m\n",
      "\u001b[0m\u001b[1m\u001b[33m---- Loading Configuration on the device ** changed : True --------------------- INFO\u001b[0m\n",
      "\u001b[0m[edit system]\n",
      "-  host-name vsrx;\n",
      "+  host-name spine01.cmh;\n",
      "+  domain-name cmh.acme.local;\u001b[0m\n",
      "\u001b[0m\u001b[1m\u001b[32m^^^^ END basic_configuration ^^^^^^^^^^^^^^^^^^^^^^^^^^^^^^^^^^^^^^^^^^^^^^^^^^^\u001b[0m\n",
      "\u001b[0m\u001b[1m\u001b[34m* leaf00.cmh ** changed : False ************************************************\u001b[0m\n",
      "\u001b[0m\u001b[1m\u001b[32mvvvv basic_configuration ** changed : False vvvvvvvvvvvvvvvvvvvvvvvvvvvvvvvvvvvv INFO\u001b[0m\n",
      "\u001b[0m\u001b[1m\u001b[32m---- Base Configuration ** changed : False ------------------------------------- INFO\u001b[0m\n",
      "\u001b[0msystem {\n",
      "  host-name leaf00.cmh;\n",
      "  domain-name cmh.acme.local;\n",
      "}\u001b[0m\n",
      "\u001b[0m\u001b[1m\u001b[31m---- Loading Configuration on the device ** changed : False -------------------- ERROR\u001b[0m\n",
      "\u001b[0mTraceback (most recent call last):\n",
      "  File \"/Users/dbarroso/.virtualenvs/brigade/lib/python3.6/site-packages/napalm/eos/eos.py\", line 231, in _load_config\n",
      "    self.device.run_commands(commands)\n",
      "  File \"/Users/dbarroso/.virtualenvs/brigade/lib/python3.6/site-packages/pyeapi/client.py\", line 730, in run_commands\n",
      "    response = self._connection.execute(commands, encoding, **kwargs)\n",
      "  File \"/Users/dbarroso/.virtualenvs/brigade/lib/python3.6/site-packages/pyeapi/eapilib.py\", line 499, in execute\n",
      "    response = self.send(request)\n",
      "  File \"/Users/dbarroso/.virtualenvs/brigade/lib/python3.6/site-packages/pyeapi/eapilib.py\", line 418, in send\n",
      "    raise CommandError(code, msg, command_error=err, output=out)\n",
      "pyeapi.eapilib.CommandError: Error [1002]: CLI command 3 of 6 'system {' failed: invalid command [Invalid input (at token 1: '{')]\n",
      "\n",
      "During handling of the above exception, another exception occurred:\n",
      "\n",
      "Traceback (most recent call last):\n",
      "  File \"/Users/dbarroso/.virtualenvs/brigade/lib/python3.6/site-packages/brigade/core/task.py\", line 61, in start\n",
      "    r = self.task(self, **self.params)\n",
      "  File \"/Users/dbarroso/.virtualenvs/brigade/lib/python3.6/site-packages/brigade/plugins/tasks/networking/napalm_configure.py\", line 26, in napalm_configure\n",
      "    device.load_merge_candidate(filename=filename, config=configuration)\n",
      "  File \"/Users/dbarroso/.virtualenvs/brigade/lib/python3.6/site-packages/napalm/eos/eos.py\", line 245, in load_merge_candidate\n",
      "    self._load_config(filename, config, False)\n",
      "  File \"/Users/dbarroso/.virtualenvs/brigade/lib/python3.6/site-packages/napalm/eos/eos.py\", line 237, in _load_config\n",
      "    raise MergeConfigException(e.message)\n",
      "napalm.base.exceptions.MergeConfigException: Error [1002]: CLI command 3 of 6 'system {' failed: invalid command [Invalid input (at token 1: '{')]\n",
      "\u001b[0m\n",
      "\u001b[0m\u001b[1m\u001b[32m^^^^ END basic_configuration ^^^^^^^^^^^^^^^^^^^^^^^^^^^^^^^^^^^^^^^^^^^^^^^^^^^\u001b[0m\n",
      "\u001b[0m\u001b[1m\u001b[34m* leaf01.cmh ** changed : True *************************************************\u001b[0m\n",
      "\u001b[0m\u001b[1m\u001b[32mvvvv basic_configuration ** changed : False vvvvvvvvvvvvvvvvvvvvvvvvvvvvvvvvvvvv INFO\u001b[0m\n",
      "\u001b[0m\u001b[1m\u001b[32m---- Base Configuration ** changed : False ------------------------------------- INFO\u001b[0m\n",
      "\u001b[0msystem {\n",
      "  host-name leaf01.cmh;\n",
      "  domain-name cmh.acme.local;\n",
      "}\u001b[0m\n",
      "\u001b[0m\u001b[1m\u001b[33m---- Loading Configuration on the device ** changed : True --------------------- INFO\u001b[0m\n",
      "\u001b[0m[edit system]\n",
      "-  host-name vsrx;\n",
      "+  host-name leaf01.cmh;\n",
      "+  domain-name cmh.acme.local;\u001b[0m\n",
      "\u001b[0m\u001b[1m\u001b[32m^^^^ END basic_configuration ^^^^^^^^^^^^^^^^^^^^^^^^^^^^^^^^^^^^^^^^^^^^^^^^^^^\u001b[0m\n",
      "\u001b[0m"
     ]
    }
   ],
   "source": [
    "print_result(result)"
   ]
  },
  {
   "cell_type": "markdown",
   "metadata": {},
   "source": [
    "There is also a method that will raise an exception if the task had an error:"
   ]
  },
  {
   "cell_type": "code",
   "execution_count": 8,
   "metadata": {},
   "outputs": [
    {
     "name": "stdout",
     "output_type": "stream",
     "text": [
      "ERROR!!!\u001b[0m\n",
      "\u001b[0m"
     ]
    }
   ],
   "source": [
    "from brigade.core.exceptions import BrigadeExecutionError\n",
    "try:\n",
    "    result.raise_on_error()\n",
    "except BrigadeExecutionError:\n",
    "    print(\"ERROR!!!\")"
   ]
  },
  {
   "cell_type": "markdown",
   "metadata": {},
   "source": [
    "## Skipped hosts\n",
    "\n",
    "Brigade will keep track of hosts that failed and won't run future tasks on them:"
   ]
  },
  {
   "cell_type": "code",
   "execution_count": 9,
   "metadata": {},
   "outputs": [],
   "source": [
    "from brigade.core.task import Result\n",
    "\n",
    "def hi(task):\n",
    "    return Result(host=task.host, result=f\"{task.host.name}: Hi, I am still here!\")\n",
    "    \n",
    "result = cmh.run(task=hi)"
   ]
  },
  {
   "cell_type": "code",
   "execution_count": 10,
   "metadata": {},
   "outputs": [
    {
     "name": "stdout",
     "output_type": "stream",
     "text": [
      "\u001b[1m\u001b[36mhi******************************************************************************\u001b[0m\n",
      "\u001b[0m\u001b[1m\u001b[34m* spine01.cmh ** changed : False ***********************************************\u001b[0m\n",
      "\u001b[0m\u001b[1m\u001b[32mvvvv hi ** changed : False vvvvvvvvvvvvvvvvvvvvvvvvvvvvvvvvvvvvvvvvvvvvvvvvvvvvv INFO\u001b[0m\n",
      "\u001b[0mspine01.cmh: Hi, I am still here!\u001b[0m\n",
      "\u001b[0m\u001b[1m\u001b[32m^^^^ END hi ^^^^^^^^^^^^^^^^^^^^^^^^^^^^^^^^^^^^^^^^^^^^^^^^^^^^^^^^^^^^^^^^^^^^\u001b[0m\n",
      "\u001b[0m\u001b[1m\u001b[34m* leaf01.cmh ** changed : False ************************************************\u001b[0m\n",
      "\u001b[0m\u001b[1m\u001b[32mvvvv hi ** changed : False vvvvvvvvvvvvvvvvvvvvvvvvvvvvvvvvvvvvvvvvvvvvvvvvvvvvv INFO\u001b[0m\n",
      "\u001b[0mleaf01.cmh: Hi, I am still here!\u001b[0m\n",
      "\u001b[0m\u001b[1m\u001b[32m^^^^ END hi ^^^^^^^^^^^^^^^^^^^^^^^^^^^^^^^^^^^^^^^^^^^^^^^^^^^^^^^^^^^^^^^^^^^^\u001b[0m\n",
      "\u001b[0m"
     ]
    }
   ],
   "source": [
    "print_result(result)"
   ]
  },
  {
   "cell_type": "markdown",
   "metadata": {},
   "source": [
    "You can force the execution of tasks on failed hosts by passing the arguments `run_on_failed=True`:"
   ]
  },
  {
   "cell_type": "code",
   "execution_count": 11,
   "metadata": {},
   "outputs": [
    {
     "name": "stdout",
     "output_type": "stream",
     "text": [
      "\u001b[1m\u001b[36mhi******************************************************************************\u001b[0m\n",
      "\u001b[0m\u001b[1m\u001b[34m* spine01.cmh ** changed : False ***********************************************\u001b[0m\n",
      "\u001b[0m\u001b[1m\u001b[32mvvvv hi ** changed : False vvvvvvvvvvvvvvvvvvvvvvvvvvvvvvvvvvvvvvvvvvvvvvvvvvvvv INFO\u001b[0m\n",
      "\u001b[0mspine01.cmh: Hi, I am still here!\u001b[0m\n",
      "\u001b[0m\u001b[1m\u001b[32m^^^^ END hi ^^^^^^^^^^^^^^^^^^^^^^^^^^^^^^^^^^^^^^^^^^^^^^^^^^^^^^^^^^^^^^^^^^^^\u001b[0m\n",
      "\u001b[0m\u001b[1m\u001b[34m* leaf01.cmh ** changed : False ************************************************\u001b[0m\n",
      "\u001b[0m\u001b[1m\u001b[32mvvvv hi ** changed : False vvvvvvvvvvvvvvvvvvvvvvvvvvvvvvvvvvvvvvvvvvvvvvvvvvvvv INFO\u001b[0m\n",
      "\u001b[0mleaf01.cmh: Hi, I am still here!\u001b[0m\n",
      "\u001b[0m\u001b[1m\u001b[32m^^^^ END hi ^^^^^^^^^^^^^^^^^^^^^^^^^^^^^^^^^^^^^^^^^^^^^^^^^^^^^^^^^^^^^^^^^^^^\u001b[0m\n",
      "\u001b[0m\u001b[1m\u001b[34m* spine00.cmh ** changed : False ***********************************************\u001b[0m\n",
      "\u001b[0m\u001b[1m\u001b[32mvvvv hi ** changed : False vvvvvvvvvvvvvvvvvvvvvvvvvvvvvvvvvvvvvvvvvvvvvvvvvvvvv INFO\u001b[0m\n",
      "\u001b[0mspine00.cmh: Hi, I am still here!\u001b[0m\n",
      "\u001b[0m\u001b[1m\u001b[32m^^^^ END hi ^^^^^^^^^^^^^^^^^^^^^^^^^^^^^^^^^^^^^^^^^^^^^^^^^^^^^^^^^^^^^^^^^^^^\u001b[0m\n",
      "\u001b[0m\u001b[1m\u001b[34m* leaf00.cmh ** changed : False ************************************************\u001b[0m\n",
      "\u001b[0m\u001b[1m\u001b[32mvvvv hi ** changed : False vvvvvvvvvvvvvvvvvvvvvvvvvvvvvvvvvvvvvvvvvvvvvvvvvvvvv INFO\u001b[0m\n",
      "\u001b[0mleaf00.cmh: Hi, I am still here!\u001b[0m\n",
      "\u001b[0m\u001b[1m\u001b[32m^^^^ END hi ^^^^^^^^^^^^^^^^^^^^^^^^^^^^^^^^^^^^^^^^^^^^^^^^^^^^^^^^^^^^^^^^^^^^\u001b[0m\n",
      "\u001b[0m"
     ]
    }
   ],
   "source": [
    "result = cmh.run(task=hi, on_failed=True)\n",
    "print_result(result)"
   ]
  },
  {
   "cell_type": "markdown",
   "metadata": {},
   "source": [
    "You can also exclude the hosts that are \"good\" if you want to with the `run_on_good` flag:"
   ]
  },
  {
   "cell_type": "code",
   "execution_count": 12,
   "metadata": {},
   "outputs": [
    {
     "name": "stdout",
     "output_type": "stream",
     "text": [
      "\u001b[1m\u001b[36mhi******************************************************************************\u001b[0m\n",
      "\u001b[0m\u001b[1m\u001b[34m* spine00.cmh ** changed : False ***********************************************\u001b[0m\n",
      "\u001b[0m\u001b[1m\u001b[32mvvvv hi ** changed : False vvvvvvvvvvvvvvvvvvvvvvvvvvvvvvvvvvvvvvvvvvvvvvvvvvvvv INFO\u001b[0m\n",
      "\u001b[0mspine00.cmh: Hi, I am still here!\u001b[0m\n",
      "\u001b[0m\u001b[1m\u001b[32m^^^^ END hi ^^^^^^^^^^^^^^^^^^^^^^^^^^^^^^^^^^^^^^^^^^^^^^^^^^^^^^^^^^^^^^^^^^^^\u001b[0m\n",
      "\u001b[0m\u001b[1m\u001b[34m* leaf00.cmh ** changed : False ************************************************\u001b[0m\n",
      "\u001b[0m\u001b[1m\u001b[32mvvvv hi ** changed : False vvvvvvvvvvvvvvvvvvvvvvvvvvvvvvvvvvvvvvvvvvvvvvvvvvvvv INFO\u001b[0m\n",
      "\u001b[0mleaf00.cmh: Hi, I am still here!\u001b[0m\n",
      "\u001b[0m\u001b[1m\u001b[32m^^^^ END hi ^^^^^^^^^^^^^^^^^^^^^^^^^^^^^^^^^^^^^^^^^^^^^^^^^^^^^^^^^^^^^^^^^^^^\u001b[0m\n",
      "\u001b[0m"
     ]
    }
   ],
   "source": [
    "result = cmh.run(task=hi, on_failed=True, on_good=False)\n",
    "print_result(result)"
   ]
  },
  {
   "cell_type": "markdown",
   "metadata": {},
   "source": [
    "To achieve this `brigade` keeps a list failed hosts in it's shared [data](../../ref/api/brigade.rst#brigade.core.Data) object:"
   ]
  },
  {
   "cell_type": "code",
   "execution_count": 13,
   "metadata": {},
   "outputs": [
    {
     "data": {
      "text/plain": [
       "{'leaf00.cmh', 'spine00.cmh'}"
      ]
     },
     "execution_count": 13,
     "metadata": {},
     "output_type": "execute_result"
    }
   ],
   "source": [
    "brg.data.failed_hosts"
   ]
  },
  {
   "cell_type": "markdown",
   "metadata": {},
   "source": [
    "If you want to mark some hosts as succeeded and make them back eligible for future tasks you can do it individually per host with the function [recover_host](../../ref/api/brigade.rst#brigade.core.Data.recover_host) or reset the list completely with [reset_failed_hosts](../../ref/api/brigade.rst#brigade.core.Data.reset_failed_hosts):"
   ]
  },
  {
   "cell_type": "code",
   "execution_count": 14,
   "metadata": {},
   "outputs": [
    {
     "data": {
      "text/plain": [
       "set()"
      ]
     },
     "execution_count": 14,
     "metadata": {},
     "output_type": "execute_result"
    }
   ],
   "source": [
    "brg.data.reset_failed_hosts()\n",
    "brg.data.failed_hosts"
   ]
  },
  {
   "cell_type": "markdown",
   "metadata": {},
   "source": [
    "## Raise on error automatically\n",
    "\n",
    "Alternatively, you can configure brigade to raise the exception automatically in case of error with the `raise_on_error` configuration option:"
   ]
  },
  {
   "cell_type": "code",
   "execution_count": 15,
   "metadata": {},
   "outputs": [
    {
     "name": "stdout",
     "output_type": "stream",
     "text": [
      "ERROR!!!\u001b[0m\n",
      "\u001b[0m"
     ]
    }
   ],
   "source": [
    "brg = InitBrigade(config_file=\"config.yaml\", raise_on_error=True)\n",
    "cmh = brg.filter(site=\"cmh\", type=\"network_device\")\n",
    "try:\n",
    "    cmh.run(task=basic_configuration)\n",
    "except BrigadeExecutionError:\n",
    "    print(\"ERROR!!!\")"
   ]
  },
  {
   "cell_type": "markdown",
   "metadata": {},
   "source": [
    "## Workflows"
   ]
  },
  {
   "cell_type": "markdown",
   "metadata": {},
   "source": [
    "The default workflow should work for most use cases as hosts with errors are skipped and the `print_result` should give enough information to understand what's going on. For more complex workflows this framework should give you enough room to easily implement them regardless of the complexity."
   ]
  }
 ],
 "metadata": {
  "kernelspec": {
   "display_name": "Python 3",
   "language": "python",
   "name": "python3"
  },
  "language_info": {
   "codemirror_mode": {
    "name": "ipython",
    "version": 3
   },
   "file_extension": ".py",
   "mimetype": "text/x-python",
   "name": "python",
   "nbconvert_exporter": "python",
   "pygments_lexer": "ipython3",
   "version": "3.6.5"
  }
 },
 "nbformat": 4,
 "nbformat_minor": 2
}
