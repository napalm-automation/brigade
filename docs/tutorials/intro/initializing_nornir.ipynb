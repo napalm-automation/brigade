{
 "cells": [
  {
   "cell_type": "code",
   "execution_count": 1,
   "metadata": {
    "nbsphinx": "hidden"
   },
   "outputs": [],
   "source": [
    "# ignore this cell, this is just a helper cell to provide the magic %highlight_file\n",
    "%run ../../highlighter.py"
   ]
  },
  {
   "cell_type": "markdown",
   "metadata": {},
   "source": [
    "# Initializing Nornir\n",
    "\n",
    "Easiest way of initializing nornir is with the function [InitNornir](../../ref/api/nornir.rst#initnornir).\n",
    "\n",
    "With `InitNornir` you can initialize nornir with a configuration file, with code or with a combination of both.\n",
    "\n",
    "Let's start with [a configuration file](../../configuration/index.rst):"
   ]
  },
  {
   "cell_type": "code",
   "execution_count": 2,
   "metadata": {},
   "outputs": [
    {
     "data": {
      "text/html": [
       "<style>\n",
       ".pygments .hll { background-color: #ffffcc }\n",
       ".pygments  { background: #f8f8f8; }\n",
       ".pygments .c { color: #408080; font-style: italic } /* Comment */\n",
       ".pygments .err { border: 1px solid #FF0000 } /* Error */\n",
       ".pygments .k { color: #008000; font-weight: bold } /* Keyword */\n",
       ".pygments .o { color: #666666 } /* Operator */\n",
       ".pygments .ch { color: #408080; font-style: italic } /* Comment.Hashbang */\n",
       ".pygments .cm { color: #408080; font-style: italic } /* Comment.Multiline */\n",
       ".pygments .cp { color: #BC7A00 } /* Comment.Preproc */\n",
       ".pygments .cpf { color: #408080; font-style: italic } /* Comment.PreprocFile */\n",
       ".pygments .c1 { color: #408080; font-style: italic } /* Comment.Single */\n",
       ".pygments .cs { color: #408080; font-style: italic } /* Comment.Special */\n",
       ".pygments .gd { color: #A00000 } /* Generic.Deleted */\n",
       ".pygments .ge { font-style: italic } /* Generic.Emph */\n",
       ".pygments .gr { color: #FF0000 } /* Generic.Error */\n",
       ".pygments .gh { color: #000080; font-weight: bold } /* Generic.Heading */\n",
       ".pygments .gi { color: #00A000 } /* Generic.Inserted */\n",
       ".pygments .go { color: #888888 } /* Generic.Output */\n",
       ".pygments .gp { color: #000080; font-weight: bold } /* Generic.Prompt */\n",
       ".pygments .gs { font-weight: bold } /* Generic.Strong */\n",
       ".pygments .gu { color: #800080; font-weight: bold } /* Generic.Subheading */\n",
       ".pygments .gt { color: #0044DD } /* Generic.Traceback */\n",
       ".pygments .kc { color: #008000; font-weight: bold } /* Keyword.Constant */\n",
       ".pygments .kd { color: #008000; font-weight: bold } /* Keyword.Declaration */\n",
       ".pygments .kn { color: #008000; font-weight: bold } /* Keyword.Namespace */\n",
       ".pygments .kp { color: #008000 } /* Keyword.Pseudo */\n",
       ".pygments .kr { color: #008000; font-weight: bold } /* Keyword.Reserved */\n",
       ".pygments .kt { color: #B00040 } /* Keyword.Type */\n",
       ".pygments .m { color: #666666 } /* Literal.Number */\n",
       ".pygments .s { color: #BA2121 } /* Literal.String */\n",
       ".pygments .na { color: #7D9029 } /* Name.Attribute */\n",
       ".pygments .nb { color: #008000 } /* Name.Builtin */\n",
       ".pygments .nc { color: #0000FF; font-weight: bold } /* Name.Class */\n",
       ".pygments .no { color: #880000 } /* Name.Constant */\n",
       ".pygments .nd { color: #AA22FF } /* Name.Decorator */\n",
       ".pygments .ni { color: #999999; font-weight: bold } /* Name.Entity */\n",
       ".pygments .ne { color: #D2413A; font-weight: bold } /* Name.Exception */\n",
       ".pygments .nf { color: #0000FF } /* Name.Function */\n",
       ".pygments .nl { color: #A0A000 } /* Name.Label */\n",
       ".pygments .nn { color: #0000FF; font-weight: bold } /* Name.Namespace */\n",
       ".pygments .nt { color: #008000; font-weight: bold } /* Name.Tag */\n",
       ".pygments .nv { color: #19177C } /* Name.Variable */\n",
       ".pygments .ow { color: #AA22FF; font-weight: bold } /* Operator.Word */\n",
       ".pygments .w { color: #bbbbbb } /* Text.Whitespace */\n",
       ".pygments .mb { color: #666666 } /* Literal.Number.Bin */\n",
       ".pygments .mf { color: #666666 } /* Literal.Number.Float */\n",
       ".pygments .mh { color: #666666 } /* Literal.Number.Hex */\n",
       ".pygments .mi { color: #666666 } /* Literal.Number.Integer */\n",
       ".pygments .mo { color: #666666 } /* Literal.Number.Oct */\n",
       ".pygments .sa { color: #BA2121 } /* Literal.String.Affix */\n",
       ".pygments .sb { color: #BA2121 } /* Literal.String.Backtick */\n",
       ".pygments .sc { color: #BA2121 } /* Literal.String.Char */\n",
       ".pygments .dl { color: #BA2121 } /* Literal.String.Delimiter */\n",
       ".pygments .sd { color: #BA2121; font-style: italic } /* Literal.String.Doc */\n",
       ".pygments .s2 { color: #BA2121 } /* Literal.String.Double */\n",
       ".pygments .se { color: #BB6622; font-weight: bold } /* Literal.String.Escape */\n",
       ".pygments .sh { color: #BA2121 } /* Literal.String.Heredoc */\n",
       ".pygments .si { color: #BB6688; font-weight: bold } /* Literal.String.Interpol */\n",
       ".pygments .sx { color: #008000 } /* Literal.String.Other */\n",
       ".pygments .sr { color: #BB6688 } /* Literal.String.Regex */\n",
       ".pygments .s1 { color: #BA2121 } /* Literal.String.Single */\n",
       ".pygments .ss { color: #19177C } /* Literal.String.Symbol */\n",
       ".pygments .bp { color: #008000 } /* Name.Builtin.Pseudo */\n",
       ".pygments .fm { color: #0000FF } /* Name.Function.Magic */\n",
       ".pygments .vc { color: #19177C } /* Name.Variable.Class */\n",
       ".pygments .vg { color: #19177C } /* Name.Variable.Global */\n",
       ".pygments .vi { color: #19177C } /* Name.Variable.Instance */\n",
       ".pygments .vm { color: #19177C } /* Name.Variable.Magic */\n",
       ".pygments .il { color: #666666 } /* Literal.Number.Integer.Long */span.lineno {\n",
       "    color: lightgray;\n",
       "}\n",
       "\n",
       "</style>\n",
       "<div class=\"pygments\"><pre><span></span><span class=\"lineno\"> 1 </span><span class=\"nn\">---</span>\n",
       "<span class=\"lineno\"> 2 </span><span class=\"nt\">core</span><span class=\"p\">:</span>\n",
       "<span class=\"lineno\"> 3 </span>    <span class=\"nt\">num_workers</span><span class=\"p\">:</span> <span class=\"l l-Scalar l-Scalar-Plain\">100</span>\n",
       "<span class=\"lineno\"> 4 </span>\n",
       "<span class=\"lineno\"> 5 </span><span class=\"nt\">inventory</span><span class=\"p\">:</span>\n",
       "<span class=\"lineno\"> 6 </span>    <span class=\"nt\">plugin</span><span class=\"p\">:</span> <span class=\"l l-Scalar l-Scalar-Plain\">nornir.plugins.inventory.simple.SimpleInventory</span>\n",
       "<span class=\"lineno\"> 7 </span>    <span class=\"nt\">options</span><span class=\"p\">:</span>\n",
       "<span class=\"lineno\"> 8 </span>        <span class=\"nt\">host_file</span><span class=\"p\">:</span> <span class=\"s\">&quot;inventory/hosts.yaml&quot;</span>\n",
       "<span class=\"lineno\"> 9 </span>        <span class=\"nt\">group_file</span><span class=\"p\">:</span> <span class=\"s\">&quot;inventory/groups.yaml&quot;</span>\n",
       "<span class=\"lineno\">10 </span>        <span class=\"nt\">defaults_file</span><span class=\"p\">:</span> <span class=\"s\">&quot;inventory/defaults.yaml&quot;</span>\n",
       "</pre></div>\n",
       "\n"
      ],
      "text/plain": [
       "<IPython.core.display.HTML object>"
      ]
     },
     "execution_count": 2,
     "metadata": {},
     "output_type": "execute_result"
    }
   ],
   "source": [
    "%highlight_file config.yaml"
   ]
  },
  {
   "cell_type": "markdown",
   "metadata": {},
   "source": [
    "Now to create the [nornir](../../ref/api/nornir.rst#nornir) object:"
   ]
  },
  {
   "cell_type": "code",
   "execution_count": 3,
   "metadata": {},
   "outputs": [],
   "source": [
    "from nornir import InitNornir\n",
    "nr = InitNornir(config_file=\"config.yaml\")"
   ]
  },
  {
   "cell_type": "markdown",
   "metadata": {},
   "source": [
    "You can also initialize nornir programmatically without a configuration file:"
   ]
  },
  {
   "cell_type": "code",
   "execution_count": 4,
   "metadata": {},
   "outputs": [],
   "source": [
    "from nornir import InitNornir\n",
    "nr = InitNornir(\n",
    "    core={\"num_workers\": 100},\n",
    "    inventory={\n",
    "        \"plugin\": \"nornir.plugins.inventory.simple.SimpleInventory\",\n",
    "        \"options\": {\n",
    "            \"host_file\": \"inventory/hosts.yaml\",\n",
    "            \"group_file\": \"inventory/groups.yaml\"\n",
    "        }\n",
    "    }\n",
    ")"
   ]
  },
  {
   "cell_type": "markdown",
   "metadata": {},
   "source": [
    "Or with a combination of both methods:"
   ]
  },
  {
   "cell_type": "code",
   "execution_count": 5,
   "metadata": {},
   "outputs": [],
   "source": [
    "from nornir import InitNornir\n",
    "nr = InitNornir(core={\"num_workers\": 50}, config_file=\"config.yaml\")"
   ]
  },
  {
   "cell_type": "code",
   "execution_count": 6,
   "metadata": {},
   "outputs": [
    {
     "data": {
      "text/plain": [
       "50"
      ]
     },
     "execution_count": 6,
     "metadata": {},
     "output_type": "execute_result"
    }
   ],
   "source": [
    "nr.config.core.num_workers"
   ]
  }
 ],
 "metadata": {
  "kernelspec": {
   "display_name": "Python 3",
   "language": "python",
   "name": "python3"
  },
  "language_info": {
   "codemirror_mode": {
    "name": "ipython",
    "version": 3
   },
   "file_extension": ".py",
   "mimetype": "text/x-python",
   "name": "python",
   "nbconvert_exporter": "python",
   "pygments_lexer": "ipython3",
   "version": "3.6.8"
  }
 },
 "nbformat": 4,
 "nbformat_minor": 2
}
