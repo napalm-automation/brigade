{
 "cells": [
  {
   "cell_type": "code",
   "execution_count": 1,
   "metadata": {},
   "outputs": [],
   "source": [
    "from nornir import InitNornir\n",
    "nr = InitNornir(config_file=\"config.yaml\")"
   ]
  },
  {
   "cell_type": "markdown",
   "metadata": {},
   "source": [
    "# Executing tasks\n",
    "\n",
    "Now that you know how to initialize nornir and work with the inventory let's see how we can leverage it to run tasks on groups of hosts.\n",
    "\n",
    "Nornir ships a bunch of tasks you can use directly without having to code them yourself. You can check them out [here](../../plugins/tasks/index.rst).\n",
    "\n",
    "Let's start by executing the `ls -la /tmp` command on all the device in `cmh` of type `host`:\n"
   ]
  },
  {
   "cell_type": "code",
   "execution_count": 2,
   "metadata": {},
   "outputs": [
    {
     "name": "stdout",
     "output_type": "stream",
     "text": [
      "\u001b[1m\u001b[36mremote_command******************************************************************\u001b[0m\n",
      "\u001b[0m\u001b[1m\u001b[34m* host1.cmh ** changed : False *************************************************\u001b[0m\n",
      "\u001b[0m\u001b[1m\u001b[32mvvvv remote_command ** changed : False vvvvvvvvvvvvvvvvvvvvvvvvvvvvvvvvvvvvvvvvv INFO\u001b[0m\n",
      "\u001b[0mtotal 8\n",
      "drwxrwxrwt  2 root root 4096 Oct 27 14:53 .\n",
      "drwxr-xr-x 24 root root 4096 Oct 27 14:53 ..\n",
      "\u001b[0m\n",
      "\u001b[0m\u001b[1m\u001b[32m^^^^ END remote_command ^^^^^^^^^^^^^^^^^^^^^^^^^^^^^^^^^^^^^^^^^^^^^^^^^^^^^^^^\u001b[0m\n",
      "\u001b[0m\u001b[1m\u001b[34m* host2.cmh ** changed : False *************************************************\u001b[0m\n",
      "\u001b[0m\u001b[1m\u001b[32mvvvv remote_command ** changed : False vvvvvvvvvvvvvvvvvvvvvvvvvvvvvvvvvvvvvvvvv INFO\u001b[0m\n",
      "\u001b[0mtotal 8\n",
      "drwxrwxrwt  2 root root 4096 Oct 27 14:54 .\n",
      "drwxr-xr-x 24 root root 4096 Oct 27 14:54 ..\n",
      "\u001b[0m\n",
      "\u001b[0m\u001b[1m\u001b[32m^^^^ END remote_command ^^^^^^^^^^^^^^^^^^^^^^^^^^^^^^^^^^^^^^^^^^^^^^^^^^^^^^^^\u001b[0m\n",
      "\u001b[0m"
     ]
    }
   ],
   "source": [
    "from nornir.plugins.tasks import commands\n",
    "from nornir.plugins.functions.text import print_result\n",
    "\n",
    "cmh_hosts = nr.filter(site=\"cmh\", role=\"host\")\n",
    "\n",
    "result = cmh_hosts.run(task=commands.remote_command,\n",
    "                       command=\"ls -la /tmp\")\n",
    "\n",
    "print_result(result, vars=[\"stdout\"])"
   ]
  },
  {
   "cell_type": "markdown",
   "metadata": {},
   "source": [
    "So what have we done here? First we have imported the `commands` and `text` modules. Then we have narrowed down nornir to the hosts we want to operate on. Once we have selected the devices we wanted to operate on we have run two tasks:\n",
    "\n",
    "1. The task `commands.remote_command` which runs the specified `command` in the remote device.\n",
    "2. The function `print_result`  which just prints on screen the result of an executed task or group of tasks.\n",
    "\n",
    "Let's try with another example:"
   ]
  },
  {
   "cell_type": "code",
   "execution_count": 3,
   "metadata": {},
   "outputs": [
    {
     "name": "stdout",
     "output_type": "stream",
     "text": [
      "\u001b[1m\u001b[36mnapalm_get**********************************************************************\u001b[0m\n",
      "\u001b[0m\u001b[1m\u001b[34m* spine00.bma ** changed : False ***********************************************\u001b[0m\n",
      "\u001b[0m\u001b[1m\u001b[32mvvvv napalm_get ** changed : False vvvvvvvvvvvvvvvvvvvvvvvvvvvvvvvvvvvvvvvvvvvvv INFO\u001b[0m\n",
      "\u001b[0m{\u001b[0m \u001b[0m'facts'\u001b[0m: \u001b[0m{\u001b[0m \u001b[0m'fqdn'\u001b[0m: \u001b[0m'localhost'\u001b[0m,\n",
      "             \u001b[0m'hostname'\u001b[0m: \u001b[0m'localhost'\u001b[0m,\n",
      "             \u001b[0m'interface_list'\u001b[0m: \u001b[0m['Ethernet1', 'Ethernet2', 'Management1']\u001b[0m,\n",
      "             \u001b[0m'model'\u001b[0m: \u001b[0m'vEOS'\u001b[0m,\n",
      "             \u001b[0m'os_version'\u001b[0m: \u001b[0m'4.20.1F-6820520.4201F'\u001b[0m,\n",
      "             \u001b[0m'serial_number'\u001b[0m: \u001b[0m''\u001b[0m,\n",
      "             \u001b[0m'uptime'\u001b[0m: \u001b[0m499\u001b[0m,\n",
      "             \u001b[0m'vendor'\u001b[0m: \u001b[0m'Arista'\u001b[0m}\u001b[0m}\u001b[0m\n",
      "\u001b[0m\u001b[1m\u001b[32m^^^^ END napalm_get ^^^^^^^^^^^^^^^^^^^^^^^^^^^^^^^^^^^^^^^^^^^^^^^^^^^^^^^^^^^^\u001b[0m\n",
      "\u001b[0m\u001b[1m\u001b[34m* spine01.bma ** changed : False ***********************************************\u001b[0m\n",
      "\u001b[0m\u001b[1m\u001b[32mvvvv napalm_get ** changed : False vvvvvvvvvvvvvvvvvvvvvvvvvvvvvvvvvvvvvvvvvvvvv INFO\u001b[0m\n",
      "\u001b[0m{\u001b[0m \u001b[0m'facts'\u001b[0m: \u001b[0m{\u001b[0m \u001b[0m'fqdn'\u001b[0m: \u001b[0m'vsrx'\u001b[0m,\n",
      "             \u001b[0m'hostname'\u001b[0m: \u001b[0m'vsrx'\u001b[0m,\n",
      "             \u001b[0m'interface_list'\u001b[0m: \u001b[0m[\u001b[0m \u001b[0m\u001b[0m'ge-0/0/0'\u001b[0m,\n",
      "                                 \u001b[0m'gr-0/0/0'\u001b[0m,\n",
      "                                 \u001b[0m'ip-0/0/0'\u001b[0m,\n",
      "                                 \u001b[0m'lsq-0/0/0'\u001b[0m,\n",
      "                                 \u001b[0m'lt-0/0/0'\u001b[0m,\n",
      "                                 \u001b[0m'mt-0/0/0'\u001b[0m,\n",
      "                                 \u001b[0m'sp-0/0/0'\u001b[0m,\n",
      "                                 \u001b[0m'ge-0/0/1'\u001b[0m,\n",
      "                                 \u001b[0m'ge-0/0/2'\u001b[0m,\n",
      "                                 \u001b[0m'.local.'\u001b[0m,\n",
      "                                 \u001b[0m'dsc'\u001b[0m,\n",
      "                                 \u001b[0m'gre'\u001b[0m,\n",
      "                                 \u001b[0m'ipip'\u001b[0m,\n",
      "                                 \u001b[0m'irb'\u001b[0m,\n",
      "                                 \u001b[0m'lo0'\u001b[0m,\n",
      "                                 \u001b[0m'lsi'\u001b[0m,\n",
      "                                 \u001b[0m'mtun'\u001b[0m,\n",
      "                                 \u001b[0m'pimd'\u001b[0m,\n",
      "                                 \u001b[0m'pime'\u001b[0m,\n",
      "                                 \u001b[0m'pp0'\u001b[0m,\n",
      "                                 \u001b[0m'ppd0'\u001b[0m,\n",
      "                                 \u001b[0m'ppe0'\u001b[0m,\n",
      "                                 \u001b[0m'st0'\u001b[0m,\n",
      "                                 \u001b[0m'tap'\u001b[0m,\n",
      "                                 \u001b[0m'vlan'\u001b[0m]\u001b[0m,\n",
      "             \u001b[0m'model'\u001b[0m: \u001b[0m'FIREFLY-PERIMETER'\u001b[0m,\n",
      "             \u001b[0m'os_version'\u001b[0m: \u001b[0m'12.1X47-D20.7'\u001b[0m,\n",
      "             \u001b[0m'serial_number'\u001b[0m: \u001b[0m'66c3cbe24e7b'\u001b[0m,\n",
      "             \u001b[0m'uptime'\u001b[0m: \u001b[0m385\u001b[0m,\n",
      "             \u001b[0m'vendor'\u001b[0m: \u001b[0m'Juniper'\u001b[0m}\u001b[0m}\u001b[0m\n",
      "\u001b[0m\u001b[1m\u001b[32m^^^^ END napalm_get ^^^^^^^^^^^^^^^^^^^^^^^^^^^^^^^^^^^^^^^^^^^^^^^^^^^^^^^^^^^^\u001b[0m\n",
      "\u001b[0m"
     ]
    }
   ],
   "source": [
    "from nornir.plugins.tasks import networking\n",
    "\n",
    "cmh_spines = nr.filter(site=\"bma\", role=\"spine\")\n",
    "result = cmh_spines.run(task=networking.napalm_get,\n",
    "                        getters=[\"facts\"])                \n",
    "print_result(result)"
   ]
  },
  {
   "cell_type": "markdown",
   "metadata": {},
   "source": [
    "Pretty much the same pattern, just different task on different devices.\n",
    "\n",
    "## What is a task\n",
    "\n",
    "Let's take a look at what a task is. In it's simplest form a task is a function that takes at least a [Task](../../ref/api/task.rst#nornir.core.task.Task) object as argument. For instance:\n",
    "\n"
   ]
  },
  {
   "cell_type": "code",
   "execution_count": 4,
   "metadata": {},
   "outputs": [
    {
     "name": "stdout",
     "output_type": "stream",
     "text": [
      "hi! My name is host1.cmh and I live in cmh\u001b[0m\n",
      "\u001b[0mhi! My name is host2.cmh and I live in cmh\u001b[0m\n",
      "\u001b[0mhi! My name is spine00.cmh and I live in cmh\u001b[0m\n",
      "\u001b[0mhi! My name is spine01.cmh and I live in cmh\u001b[0m\n",
      "\u001b[0mhi! My name is leaf00.cmh and I live in cmh\u001b[0m\n",
      "\u001b[0mhi! My name is leaf01.cmh and I live in cmh\u001b[0m\n",
      "\u001b[0mhi! My name is host1.bma and I live in bma\u001b[0m\n",
      "\u001b[0mhi! My name is host2.bma and I live in bma\u001b[0m\n",
      "\u001b[0mhi! My name is spine00.bma and I live in bma\u001b[0m\n",
      "\u001b[0mhi! My name is spine01.bma and I live in bma\u001b[0m\n",
      "\u001b[0mhi! My name is leaf00.bma and I live in bma\u001b[0m\n",
      "\u001b[0mhi! My name is leaf01.bma and I live in bma\u001b[0m\n",
      "\u001b[0m"
     ]
    },
    {
     "data": {
      "text/plain": [
       "AggregatedResult (hi): {'host1.cmh': MultiResult: [Result: \"hi\"], 'host2.cmh': MultiResult: [Result: \"hi\"], 'spine00.cmh': MultiResult: [Result: \"hi\"], 'spine01.cmh': MultiResult: [Result: \"hi\"], 'leaf00.cmh': MultiResult: [Result: \"hi\"], 'leaf01.cmh': MultiResult: [Result: \"hi\"], 'host1.bma': MultiResult: [Result: \"hi\"], 'host2.bma': MultiResult: [Result: \"hi\"], 'spine00.bma': MultiResult: [Result: \"hi\"], 'spine01.bma': MultiResult: [Result: \"hi\"], 'leaf00.bma': MultiResult: [Result: \"hi\"], 'leaf01.bma': MultiResult: [Result: \"hi\"]}"
      ]
     },
     "execution_count": 4,
     "metadata": {},
     "output_type": "execute_result"
    }
   ],
   "source": [
    "def hi(task):\n",
    "    print(f\"hi! My name is {task.host.name} and I live in {task.host['site']}\")\n",
    "    \n",
    "nr.run(task=hi, num_workers=1)"
   ]
  },
  {
   "cell_type": "markdown",
   "metadata": {},
   "source": [
    "The task object has access to `nornir`, `host` and `dry_run` attributes.\n",
    "\n",
    "You can call other tasks from within a task:"
   ]
  },
  {
   "cell_type": "code",
   "execution_count": 5,
   "metadata": {},
   "outputs": [
    {
     "name": "stdout",
     "output_type": "stream",
     "text": [
      "\u001b[1m\u001b[36mavailable_resources*************************************************************\u001b[0m\n",
      "\u001b[0m\u001b[1m\u001b[34m* host1.cmh ** changed : False *************************************************\u001b[0m\n",
      "\u001b[0m\u001b[1m\u001b[32mvvvv available_resources ** changed : False vvvvvvvvvvvvvvvvvvvvvvvvvvvvvvvvvvvv INFO\u001b[0m\n",
      "\u001b[0m\u001b[1m\u001b[32m---- Available disk ** changed : False ----------------------------------------- INFO\u001b[0m\n",
      "\u001b[0mFilesystem                  Size  Used Avail Use% Mounted on\n",
      "/dev/mapper/precise64-root   79G  2.2G   73G   3% /\n",
      "udev                        174M  4.0K  174M   1% /dev\n",
      "tmpfs                        74M  284K   73M   1% /run\n",
      "none                        5.0M     0  5.0M   0% /run/lock\n",
      "none                        183M     0  183M   0% /run/shm\n",
      "/dev/sda1                   228M   25M  192M  12% /boot\n",
      "vagrant                     373G  251G  122G  68% /vagrant\n",
      "\u001b[0m\n",
      "\u001b[0m\u001b[1m\u001b[32m---- Available memory ** changed : False --------------------------------------- INFO\u001b[0m\n",
      "\u001b[0m             total       used       free     shared    buffers     cached\n",
      "Mem:           365         87        277          0          8         36\n",
      "-/+ buffers/cache:         42        322\n",
      "Swap:          767          0        767\n",
      "\u001b[0m\n",
      "\u001b[0m\u001b[1m\u001b[32m^^^^ END available_resources ^^^^^^^^^^^^^^^^^^^^^^^^^^^^^^^^^^^^^^^^^^^^^^^^^^^\u001b[0m\n",
      "\u001b[0m\u001b[1m\u001b[34m* host2.cmh ** changed : False *************************************************\u001b[0m\n",
      "\u001b[0m\u001b[1m\u001b[32mvvvv available_resources ** changed : False vvvvvvvvvvvvvvvvvvvvvvvvvvvvvvvvvvvv INFO\u001b[0m\n",
      "\u001b[0m\u001b[1m\u001b[32m---- Available disk ** changed : False ----------------------------------------- INFO\u001b[0m\n",
      "\u001b[0mFilesystem                  Size  Used Avail Use% Mounted on\n",
      "/dev/mapper/precise64-root   79G  2.2G   73G   3% /\n",
      "udev                        174M  4.0K  174M   1% /dev\n",
      "tmpfs                        74M  284K   73M   1% /run\n",
      "none                        5.0M     0  5.0M   0% /run/lock\n",
      "none                        183M     0  183M   0% /run/shm\n",
      "/dev/sda1                   228M   25M  192M  12% /boot\n",
      "vagrant                     373G  251G  122G  68% /vagrant\n",
      "\u001b[0m\n",
      "\u001b[0m\u001b[1m\u001b[32m---- Available memory ** changed : False --------------------------------------- INFO\u001b[0m\n",
      "\u001b[0m             total       used       free     shared    buffers     cached\n",
      "Mem:           365         87        277          0          8         36\n",
      "-/+ buffers/cache:         42        322\n",
      "Swap:          767          0        767\n",
      "\u001b[0m\n",
      "\u001b[0m\u001b[1m\u001b[32m^^^^ END available_resources ^^^^^^^^^^^^^^^^^^^^^^^^^^^^^^^^^^^^^^^^^^^^^^^^^^^\u001b[0m\n",
      "\u001b[0m"
     ]
    }
   ],
   "source": [
    "def available_resources(task):\n",
    "    task.run(task=commands.remote_command,\n",
    "             name=\"Available disk\",\n",
    "             command=\"df -h\")\n",
    "    task.run(task=commands.remote_command,\n",
    "             name=\"Available memory\",\n",
    "             command=\"free -m\")\n",
    "    \n",
    "result = cmh_hosts.run(task=available_resources)\n",
    "\n",
    "print_result(result, vars=[\"stdout\"])"
   ]
  },
  {
   "cell_type": "markdown",
   "metadata": {},
   "source": [
    "You probably noticed in your previous example that you can name your tasks.\n",
    "\n",
    "Your task can also accept any extra arguments you may need:"
   ]
  },
  {
   "cell_type": "code",
   "execution_count": 6,
   "metadata": {},
   "outputs": [
    {
     "name": "stdout",
     "output_type": "stream",
     "text": [
      "host1.cmh: [0, 1, 2, 3, 4, 5, 6, 7, 8, 9]\u001b[0m\n",
      "\u001b[0mhost2.cmh: [0, 1, 2, 3, 4, 5, 6, 7, 8, 9]\u001b[0m\n",
      "\u001b[0mhost1.cmh: [0, 1, 2, 3, 4, 5, 6, 7, 8, 9, 10, 11, 12, 13, 14, 15, 16, 17, 18, 19]\u001b[0m\n",
      "\u001b[0mhost2.cmh: [0, 1, 2, 3, 4, 5, 6, 7, 8, 9, 10, 11, 12, 13, 14, 15, 16, 17, 18, 19]\u001b[0m\n",
      "\u001b[0m"
     ]
    },
    {
     "data": {
      "text/plain": [
       "AggregatedResult (count): {'host1.cmh': MultiResult: [Result: \"count\"], 'host2.cmh': MultiResult: [Result: \"count\"]}"
      ]
     },
     "execution_count": 6,
     "metadata": {},
     "output_type": "execute_result"
    }
   ],
   "source": [
    "def count(task, to):\n",
    "    print(f\"{task.host.name}: {list(range(0, to))}\")\n",
    "    \n",
    "cmh_hosts.run(task=count,\n",
    "              num_workers=1,\n",
    "              to=10)\n",
    "cmh_hosts.run(task=count,\n",
    "              num_workers=1,\n",
    "              to=20)"
   ]
  },
  {
   "cell_type": "markdown",
   "metadata": {},
   "source": [
    "## Tasks vs Functions\n",
    "\n",
    "You probably noticed we introduced the concept of a `function` when we talked about `print_result`. The difference between tasks and functions is that tasks are meant to be run per host while functions are helper functions meant to be run globally."
   ]
  }
 ],
 "metadata": {
  "celltoolbar": "Edit Metadata",
  "kernelspec": {
   "display_name": "Python 3",
   "language": "python",
   "name": "python3"
  },
  "language_info": {
   "codemirror_mode": {
    "name": "ipython",
    "version": 3
   },
   "file_extension": ".py",
   "mimetype": "text/x-python",
   "name": "python",
   "nbconvert_exporter": "python",
   "pygments_lexer": "ipython3",
   "version": "3.6.8"
  }
 },
 "nbformat": 4,
 "nbformat_minor": 2
}
