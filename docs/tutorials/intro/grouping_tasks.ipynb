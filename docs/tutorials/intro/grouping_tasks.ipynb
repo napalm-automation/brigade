{
 "cells": [
  {
   "cell_type": "markdown",
   "metadata": {},
   "source": [
    "# Grouping tasks\n",
    "\n",
    "In this section we are going to see how we can group tasks. Grouping tasks might be useful for various reasons, for instance, for reusability purposes (as seen in a previous section) or even just for readability purposes. \n",
    "\n",
    "We will also see very briefly how to use the functions [functions.text.print_title](../../plugins/functions/text.rst#nornir.plugins.functions.text.print_title) and [functions.text.print_result](../../plugins/functions/text.rst#nornir.plugins.functions.text.print_result) to make things look pretty.\n",
    "\n",
    "As an objective in this tutorial we are going to be configuring the hostname and domain name of our network devices.\n",
    "\n",
    "Let's start with the basic imports and objects we will need:"
   ]
  },
  {
   "cell_type": "code",
   "execution_count": 1,
   "metadata": {},
   "outputs": [],
   "source": [
    "from nornir import InitNornir\n",
    "from nornir.plugins.tasks import networking, text\n",
    "from nornir.plugins.functions.text import print_title, print_result\n",
    "\n",
    "nr = InitNornir(config_file=\"config.yaml\", dry_run=True)\n",
    "cmh = nr.filter(site=\"cmh\", type=\"network_device\")"
   ]
  },
  {
   "cell_type": "markdown",
   "metadata": {},
   "source": [
    "You may have noticed that `InitNornir` got a new argument `dry_run=True`. That argument (which defaults to `False`) controls whether to apply the changes to the device or just simulate them. You can control that argument via the configuration as well. Some tasks might even allow you to override this behavior completely at the task level.\n",
    "\n",
    "Now, let's create task that is going to group what we want to do:"
   ]
  },
  {
   "cell_type": "code",
   "execution_count": 2,
   "metadata": {},
   "outputs": [],
   "source": [
    "def basic_configuration(task):\n",
    "    # Transform inventory data to configuration via a template file\n",
    "    r = task.run(task=text.template_file,\n",
    "                 name=\"Base Configuration\",\n",
    "                 template=\"base.j2\",\n",
    "                 path=f\"templates/{task.host.platform}\")\n",
    "    \n",
    "    # Save the compiled configuration into a host variable\n",
    "    task.host[\"config\"] = r.result\n",
    "    \n",
    "    # Deploy that configuration to the device using NAPALM\n",
    "    task.run(task=networking.napalm_configure,\n",
    "             name=\"Loading Configuration on the device\",\n",
    "             replace=False,\n",
    "             configuration=task.host[\"config\"])"
   ]
  },
  {
   "cell_type": "markdown",
   "metadata": {},
   "source": [
    "As you can see the task is basically doing two things:\n",
    "\n",
    "1. Render configuration from a jinja2 template and storing it into a host variable. Note we are using the host network operating system as part of the path so we can load the right template for the given device platform.\n",
    "2. Deploying that configuration to the device with NAPALM.\n",
    "\n",
    "Quite straightforward. For reference let's look at the templates:"
   ]
  },
  {
   "cell_type": "code",
   "execution_count": 3,
   "metadata": {},
   "outputs": [
    {
     "name": "stdout",
     "output_type": "stream",
     "text": [
      "hostname {{ host }}\n",
      "ip domain-name {{ host.site }}.{{ host.domain }}\n",
      "\u001b[0m\u001b[0m"
     ]
    }
   ],
   "source": [
    "%cat templates/eos/base.j2"
   ]
  },
  {
   "cell_type": "code",
   "execution_count": 4,
   "metadata": {},
   "outputs": [
    {
     "name": "stdout",
     "output_type": "stream",
     "text": [
      "system {\n",
      "  host-name {{ host }};\n",
      "  domain-name {{ host.site }}.{{ host.domain }};\n",
      "}\n",
      "\u001b[0m\u001b[0m"
     ]
    }
   ],
   "source": [
    "%cat templates/junos/base.j2"
   ]
  },
  {
   "cell_type": "markdown",
   "metadata": {},
   "source": [
    "Now we can proceed with just a few lines of code: "
   ]
  },
  {
   "cell_type": "code",
   "execution_count": 5,
   "metadata": {},
   "outputs": [
    {
     "name": "stdout",
     "output_type": "stream",
     "text": [
      "\u001b[1m\u001b[32m**** Playbook to configure the network *****************************************\u001b[0m\n",
      "\u001b[0m\u001b[1m\u001b[36mbasic_configuration*************************************************************\u001b[0m\n",
      "\u001b[0m\u001b[1m\u001b[34m* leaf00.cmh ** changed : True *************************************************\u001b[0m\n",
      "\u001b[0m\u001b[1m\u001b[32mvvvv basic_configuration ** changed : False vvvvvvvvvvvvvvvvvvvvvvvvvvvvvvvvvvvv INFO\u001b[0m\n",
      "\u001b[0m\u001b[1m\u001b[32m---- Base Configuration ** changed : False ------------------------------------- INFO\u001b[0m\n",
      "\u001b[0mhostname leaf00.cmh\n",
      "ip domain-name cmh.acme.local\u001b[0m\n",
      "\u001b[0m\u001b[1m\u001b[33m---- Loading Configuration on the device ** changed : True --------------------- INFO\u001b[0m\n",
      "\u001b[0m@@ -7,6 +7,9 @@\n",
      "    action bash sudo /mnt/flash/initialize_ma1.sh\n",
      " !\n",
      " transceiver qsfp default-mode 4x10G\n",
      "+!\n",
      "+hostname leaf00.cmh\n",
      "+ip domain-name cmh.acme.local\n",
      " !\n",
      " spanning-tree mode mstp\n",
      " !\u001b[0m\n",
      "\u001b[0m\u001b[1m\u001b[32m^^^^ END basic_configuration ^^^^^^^^^^^^^^^^^^^^^^^^^^^^^^^^^^^^^^^^^^^^^^^^^^^\u001b[0m\n",
      "\u001b[0m\u001b[1m\u001b[34m* leaf01.cmh ** changed : True *************************************************\u001b[0m\n",
      "\u001b[0m\u001b[1m\u001b[32mvvvv basic_configuration ** changed : False vvvvvvvvvvvvvvvvvvvvvvvvvvvvvvvvvvvv INFO\u001b[0m\n",
      "\u001b[0m\u001b[1m\u001b[32m---- Base Configuration ** changed : False ------------------------------------- INFO\u001b[0m\n",
      "\u001b[0msystem {\n",
      "  host-name leaf01.cmh;\n",
      "  domain-name cmh.acme.local;\n",
      "}\u001b[0m\n",
      "\u001b[0m\u001b[1m\u001b[33m---- Loading Configuration on the device ** changed : True --------------------- INFO\u001b[0m\n",
      "\u001b[0m[edit system]\n",
      "-  host-name vsrx;\n",
      "+  host-name leaf01.cmh;\n",
      "+  domain-name cmh.acme.local;\u001b[0m\n",
      "\u001b[0m\u001b[1m\u001b[32m^^^^ END basic_configuration ^^^^^^^^^^^^^^^^^^^^^^^^^^^^^^^^^^^^^^^^^^^^^^^^^^^\u001b[0m\n",
      "\u001b[0m\u001b[1m\u001b[34m* spine00.cmh ** changed : True ************************************************\u001b[0m\n",
      "\u001b[0m\u001b[1m\u001b[32mvvvv basic_configuration ** changed : False vvvvvvvvvvvvvvvvvvvvvvvvvvvvvvvvvvvv INFO\u001b[0m\n",
      "\u001b[0m\u001b[1m\u001b[32m---- Base Configuration ** changed : False ------------------------------------- INFO\u001b[0m\n",
      "\u001b[0mhostname spine00.cmh\n",
      "ip domain-name cmh.acme.local\u001b[0m\n",
      "\u001b[0m\u001b[1m\u001b[33m---- Loading Configuration on the device ** changed : True --------------------- INFO\u001b[0m\n",
      "\u001b[0m@@ -7,6 +7,9 @@\n",
      "    action bash sudo /mnt/flash/initialize_ma1.sh\n",
      " !\n",
      " transceiver qsfp default-mode 4x10G\n",
      "+!\n",
      "+hostname spine00.cmh\n",
      "+ip domain-name cmh.acme.local\n",
      " !\n",
      " spanning-tree mode mstp\n",
      " !\u001b[0m\n",
      "\u001b[0m\u001b[1m\u001b[32m^^^^ END basic_configuration ^^^^^^^^^^^^^^^^^^^^^^^^^^^^^^^^^^^^^^^^^^^^^^^^^^^\u001b[0m\n",
      "\u001b[0m\u001b[1m\u001b[34m* spine01.cmh ** changed : True ************************************************\u001b[0m\n",
      "\u001b[0m\u001b[1m\u001b[32mvvvv basic_configuration ** changed : False vvvvvvvvvvvvvvvvvvvvvvvvvvvvvvvvvvvv INFO\u001b[0m\n",
      "\u001b[0m\u001b[1m\u001b[32m---- Base Configuration ** changed : False ------------------------------------- INFO\u001b[0m\n",
      "\u001b[0msystem {\n",
      "  host-name spine01.cmh;\n",
      "  domain-name cmh.acme.local;\n",
      "}\u001b[0m\n",
      "\u001b[0m\u001b[1m\u001b[33m---- Loading Configuration on the device ** changed : True --------------------- INFO\u001b[0m\n",
      "\u001b[0m[edit system]\n",
      "-  host-name vsrx;\n",
      "+  host-name spine01.cmh;\n",
      "+  domain-name cmh.acme.local;\u001b[0m\n",
      "\u001b[0m\u001b[1m\u001b[32m^^^^ END basic_configuration ^^^^^^^^^^^^^^^^^^^^^^^^^^^^^^^^^^^^^^^^^^^^^^^^^^^\u001b[0m\n",
      "\u001b[0m"
     ]
    }
   ],
   "source": [
    "print_title(\"Playbook to configure the network\")\n",
    "result = cmh.run(task=basic_configuration)\n",
    "print_result(result)"
   ]
  },
  {
   "cell_type": "markdown",
   "metadata": {},
   "source": [
    "As you can see, pretty straightforward. We just call the function we defined earlier grouping the tasks we wanted to execute and then we leverage on `functions.text.print_title` and `tasks.text.print_result` to make things look pretty.\n",
    "\n",
    "However, this was a `dry_run`. Let's set the `dry_run` variable to `False` so changes are committed and then run the code again:\n",
    "\n",
    "<div class=\"alert alert-info\">\n",
    "**Note:** The `dry_run` value is shared between the main nornir objects and its children so in the snippet below `nr.data.dry_run = False` and `cmh.data.dry_run = False` are equivalent.\n",
    "</div>"
   ]
  },
  {
   "cell_type": "code",
   "execution_count": 6,
   "metadata": {},
   "outputs": [
    {
     "name": "stdout",
     "output_type": "stream",
     "text": [
      "\u001b[1m\u001b[32m**** Playbook to configure the network *****************************************\u001b[0m\n",
      "\u001b[0m\u001b[1m\u001b[36mbasic_configuration*************************************************************\u001b[0m\n",
      "\u001b[0m\u001b[1m\u001b[34m* leaf00.cmh ** changed : True *************************************************\u001b[0m\n",
      "\u001b[0m\u001b[1m\u001b[32mvvvv basic_configuration ** changed : False vvvvvvvvvvvvvvvvvvvvvvvvvvvvvvvvvvvv INFO\u001b[0m\n",
      "\u001b[0m\u001b[1m\u001b[32m---- Base Configuration ** changed : False ------------------------------------- INFO\u001b[0m\n",
      "\u001b[0mhostname leaf00.cmh\n",
      "ip domain-name cmh.acme.local\u001b[0m\n",
      "\u001b[0m\u001b[1m\u001b[33m---- Loading Configuration on the device ** changed : True --------------------- INFO\u001b[0m\n",
      "\u001b[0m@@ -7,6 +7,9 @@\n",
      "    action bash sudo /mnt/flash/initialize_ma1.sh\n",
      " !\n",
      " transceiver qsfp default-mode 4x10G\n",
      "+!\n",
      "+hostname leaf00.cmh\n",
      "+ip domain-name cmh.acme.local\n",
      " !\n",
      " spanning-tree mode mstp\n",
      " !\u001b[0m\n",
      "\u001b[0m\u001b[1m\u001b[32m^^^^ END basic_configuration ^^^^^^^^^^^^^^^^^^^^^^^^^^^^^^^^^^^^^^^^^^^^^^^^^^^\u001b[0m\n",
      "\u001b[0m\u001b[1m\u001b[34m* leaf01.cmh ** changed : True *************************************************\u001b[0m\n",
      "\u001b[0m\u001b[1m\u001b[32mvvvv basic_configuration ** changed : False vvvvvvvvvvvvvvvvvvvvvvvvvvvvvvvvvvvv INFO\u001b[0m\n",
      "\u001b[0m\u001b[1m\u001b[32m---- Base Configuration ** changed : False ------------------------------------- INFO\u001b[0m\n",
      "\u001b[0msystem {\n",
      "  host-name leaf01.cmh;\n",
      "  domain-name cmh.acme.local;\n",
      "}\u001b[0m\n",
      "\u001b[0m\u001b[1m\u001b[33m---- Loading Configuration on the device ** changed : True --------------------- INFO\u001b[0m\n",
      "\u001b[0m[edit system]\n",
      "-  host-name vsrx;\n",
      "+  host-name leaf01.cmh;\n",
      "+  domain-name cmh.acme.local;\u001b[0m\n",
      "\u001b[0m\u001b[1m\u001b[32m^^^^ END basic_configuration ^^^^^^^^^^^^^^^^^^^^^^^^^^^^^^^^^^^^^^^^^^^^^^^^^^^\u001b[0m\n",
      "\u001b[0m\u001b[1m\u001b[34m* spine00.cmh ** changed : True ************************************************\u001b[0m\n",
      "\u001b[0m\u001b[1m\u001b[32mvvvv basic_configuration ** changed : False vvvvvvvvvvvvvvvvvvvvvvvvvvvvvvvvvvvv INFO\u001b[0m\n",
      "\u001b[0m\u001b[1m\u001b[32m---- Base Configuration ** changed : False ------------------------------------- INFO\u001b[0m\n",
      "\u001b[0mhostname spine00.cmh\n",
      "ip domain-name cmh.acme.local\u001b[0m\n",
      "\u001b[0m\u001b[1m\u001b[33m---- Loading Configuration on the device ** changed : True --------------------- INFO\u001b[0m\n",
      "\u001b[0m@@ -7,6 +7,9 @@\n",
      "    action bash sudo /mnt/flash/initialize_ma1.sh\n",
      " !\n",
      " transceiver qsfp default-mode 4x10G\n",
      "+!\n",
      "+hostname spine00.cmh\n",
      "+ip domain-name cmh.acme.local\n",
      " !\n",
      " spanning-tree mode mstp\n",
      " !\u001b[0m\n",
      "\u001b[0m\u001b[1m\u001b[32m^^^^ END basic_configuration ^^^^^^^^^^^^^^^^^^^^^^^^^^^^^^^^^^^^^^^^^^^^^^^^^^^\u001b[0m\n",
      "\u001b[0m\u001b[1m\u001b[34m* spine01.cmh ** changed : True ************************************************\u001b[0m\n",
      "\u001b[0m\u001b[1m\u001b[32mvvvv basic_configuration ** changed : False vvvvvvvvvvvvvvvvvvvvvvvvvvvvvvvvvvvv INFO\u001b[0m\n",
      "\u001b[0m\u001b[1m\u001b[32m---- Base Configuration ** changed : False ------------------------------------- INFO\u001b[0m\n",
      "\u001b[0msystem {\n",
      "  host-name spine01.cmh;\n",
      "  domain-name cmh.acme.local;\n",
      "}\u001b[0m\n",
      "\u001b[0m\u001b[1m\u001b[33m---- Loading Configuration on the device ** changed : True --------------------- INFO\u001b[0m\n",
      "\u001b[0m[edit system]\n",
      "-  host-name vsrx;\n",
      "+  host-name spine01.cmh;\n",
      "+  domain-name cmh.acme.local;\u001b[0m\n",
      "\u001b[0m\u001b[1m\u001b[32m^^^^ END basic_configuration ^^^^^^^^^^^^^^^^^^^^^^^^^^^^^^^^^^^^^^^^^^^^^^^^^^^\u001b[0m\n",
      "\u001b[0m"
     ]
    }
   ],
   "source": [
    "nr.data.dry_run = False\n",
    "print_title(\"Playbook to configure the network\")\n",
    "result = cmh.run(task=basic_configuration)\n",
    "print_result(result)"
   ]
  },
  {
   "cell_type": "markdown",
   "metadata": {},
   "source": [
    "As the configuration should've been committed already, if we run it again the task \"Loading Configuration on the device\" should tell us that `changed : False` and should return an empty diff. Let's see if that's true:"
   ]
  },
  {
   "cell_type": "code",
   "execution_count": 7,
   "metadata": {},
   "outputs": [
    {
     "name": "stdout",
     "output_type": "stream",
     "text": [
      "\u001b[1m\u001b[32m**** Playbook to configure the network *****************************************\u001b[0m\n",
      "\u001b[0m\u001b[1m\u001b[36mbasic_configuration*************************************************************\u001b[0m\n",
      "\u001b[0m\u001b[1m\u001b[34m* leaf00.cmh ** changed : False ************************************************\u001b[0m\n",
      "\u001b[0m\u001b[1m\u001b[32mvvvv basic_configuration ** changed : False vvvvvvvvvvvvvvvvvvvvvvvvvvvvvvvvvvvv INFO\u001b[0m\n",
      "\u001b[0m\u001b[1m\u001b[32m---- Base Configuration ** changed : False ------------------------------------- INFO\u001b[0m\n",
      "\u001b[0mhostname leaf00.cmh\n",
      "ip domain-name cmh.acme.local\u001b[0m\n",
      "\u001b[0m\u001b[1m\u001b[32m---- Loading Configuration on the device ** changed : False -------------------- INFO\u001b[0m\n",
      "\u001b[0m\u001b[1m\u001b[32m^^^^ END basic_configuration ^^^^^^^^^^^^^^^^^^^^^^^^^^^^^^^^^^^^^^^^^^^^^^^^^^^\u001b[0m\n",
      "\u001b[0m\u001b[1m\u001b[34m* leaf01.cmh ** changed : False ************************************************\u001b[0m\n",
      "\u001b[0m\u001b[1m\u001b[32mvvvv basic_configuration ** changed : False vvvvvvvvvvvvvvvvvvvvvvvvvvvvvvvvvvvv INFO\u001b[0m\n",
      "\u001b[0m\u001b[1m\u001b[32m---- Base Configuration ** changed : False ------------------------------------- INFO\u001b[0m\n",
      "\u001b[0msystem {\n",
      "  host-name leaf01.cmh;\n",
      "  domain-name cmh.acme.local;\n",
      "}\u001b[0m\n",
      "\u001b[0m\u001b[1m\u001b[32m---- Loading Configuration on the device ** changed : False -------------------- INFO\u001b[0m\n",
      "\u001b[0m\u001b[1m\u001b[32m^^^^ END basic_configuration ^^^^^^^^^^^^^^^^^^^^^^^^^^^^^^^^^^^^^^^^^^^^^^^^^^^\u001b[0m\n",
      "\u001b[0m\u001b[1m\u001b[34m* spine00.cmh ** changed : False ***********************************************\u001b[0m\n",
      "\u001b[0m\u001b[1m\u001b[32mvvvv basic_configuration ** changed : False vvvvvvvvvvvvvvvvvvvvvvvvvvvvvvvvvvvv INFO\u001b[0m\n",
      "\u001b[0m\u001b[1m\u001b[32m---- Base Configuration ** changed : False ------------------------------------- INFO\u001b[0m\n",
      "\u001b[0mhostname spine00.cmh\n",
      "ip domain-name cmh.acme.local\u001b[0m\n",
      "\u001b[0m\u001b[1m\u001b[32m---- Loading Configuration on the device ** changed : False -------------------- INFO\u001b[0m\n",
      "\u001b[0m\u001b[1m\u001b[32m^^^^ END basic_configuration ^^^^^^^^^^^^^^^^^^^^^^^^^^^^^^^^^^^^^^^^^^^^^^^^^^^\u001b[0m\n",
      "\u001b[0m\u001b[1m\u001b[34m* spine01.cmh ** changed : False ***********************************************\u001b[0m\n",
      "\u001b[0m\u001b[1m\u001b[32mvvvv basic_configuration ** changed : False vvvvvvvvvvvvvvvvvvvvvvvvvvvvvvvvvvvv INFO\u001b[0m\n",
      "\u001b[0m\u001b[1m\u001b[32m---- Base Configuration ** changed : False ------------------------------------- INFO\u001b[0m\n",
      "\u001b[0msystem {\n",
      "  host-name spine01.cmh;\n",
      "  domain-name cmh.acme.local;\n",
      "}\u001b[0m\n",
      "\u001b[0m\u001b[1m\u001b[32m---- Loading Configuration on the device ** changed : False -------------------- INFO\u001b[0m\n",
      "\u001b[0m\u001b[1m\u001b[32m^^^^ END basic_configuration ^^^^^^^^^^^^^^^^^^^^^^^^^^^^^^^^^^^^^^^^^^^^^^^^^^^\u001b[0m\n",
      "\u001b[0m"
     ]
    }
   ],
   "source": [
    "print_title(\"Playbook to configure the network\")\n",
    "result = cmh.run(task=basic_configuration)\n",
    "print_result(result)"
   ]
  }
 ],
 "metadata": {
  "celltoolbar": "Edit Metadata",
  "kernelspec": {
   "display_name": "Python 3",
   "language": "python",
   "name": "python3"
  },
  "language_info": {
   "codemirror_mode": {
    "name": "ipython",
    "version": 3
   },
   "file_extension": ".py",
   "mimetype": "text/x-python",
   "name": "python",
   "nbconvert_exporter": "python",
   "pygments_lexer": "ipython3",
   "version": "3.7.0"
  }
 },
 "nbformat": 4,
 "nbformat_minor": 2
}
